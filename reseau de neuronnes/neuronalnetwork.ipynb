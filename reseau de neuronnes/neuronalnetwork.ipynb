{
 "cells": [
  {
   "cell_type": "markdown",
   "metadata": {},
   "source": [
    "# LIBRAIRIE D'APPLICATION DE RESEAUX DE NEURONNES"
   ]
  },
  {
   "cell_type": "markdown",
   "metadata": {},
   "source": [
    "## `Scikit-learn` pour les reseaux de neuronnes\n",
    "\n",
    "Pour l'utiliser dans des projets d'`IA`, sklearn propose deux classes de modeles qui sont:\n",
    "1. MLPClassifier : utilisée pour effectuer de la classification \n",
    "2. MLPRegressor : utlisée pour effectuer de la regression"
   ]
  },
  {
   "cell_type": "markdown",
   "metadata": {},
   "source": [
    "### **MLPClassifier**"
   ]
  },
  {
   "cell_type": "code",
   "execution_count": 1,
   "metadata": {},
   "outputs": [],
   "source": [
    "import sklearn.neural_network as sk\n",
    "from sklearn import model_selection as ms, datasets\n",
    "data = datasets.load_iris()\n",
    "x = data.data\n",
    "y = data.target"
   ]
  },
  {
   "cell_type": "code",
   "execution_count": 2,
   "metadata": {},
   "outputs": [],
   "source": [
    "p=0.8\n",
    "train,test,classTrain,classTest=ms.train_test_split(x,y,random_state=1,train_size=int(p*len(data.data)))"
   ]
  },
  {
   "cell_type": "code",
   "execution_count": 3,
   "metadata": {},
   "outputs": [
    {
     "name": "stdout",
     "output_type": "stream",
     "text": [
      "Classe de test: [0 1 1 0 2 1 2 0 0 2 1 0 2 1 1 0 1 1 0 0 1 1 1 0 2 1 0 0 1 2]\n",
      "Classe predite: [0 1 1 0 2 1 2 0 0 2 1 0 2 1 1 0 1 1 0 0 1 1 1 0 2 1 0 0 1 2]\n"
     ]
    }
   ],
   "source": [
    "# utilisation de la classe MLPClassifier\n",
    "model=sk.MLPClassifier(hidden_layer_sizes=(5,4,3),activation=\"logistic\",learning_rate=\"adaptive\",solver=\"lbfgs\",max_iter=10000)\n",
    "model.fit(train,classTrain)\n",
    "pred=model.predict(test)\n",
    "print(\"Classe de test: {}\\nClasse predite: {}\".format(classTest,pred))"
   ]
  },
  {
   "cell_type": "code",
   "execution_count": 4,
   "metadata": {},
   "outputs": [
    {
     "name": "stdout",
     "output_type": "stream",
     "text": [
      "(4, 5)\n",
      "(5, 4)\n",
      "(4, 3)\n",
      "(3, 3)\n"
     ]
    }
   ],
   "source": [
    "coefs=model.coefs_\n",
    "for array in coefs:\n",
    "    print(array.shape)"
   ]
  },
  {
   "cell_type": "markdown",
   "metadata": {},
   "source": [
    "### **MLPRegressor**"
   ]
  },
  {
   "cell_type": "code",
   "execution_count": 5,
   "metadata": {},
   "outputs": [],
   "source": [
    "train,test,classTrain,classTest=ms.train_test_split(x[:,0:3],x[:,3],random_state=1,train_size=int(p*len(data.data)))"
   ]
  },
  {
   "cell_type": "code",
   "execution_count": 6,
   "metadata": {},
   "outputs": [
    {
     "name": "stdout",
     "output_type": "stream",
     "text": [
      "Tableau de valeur de test: [0.2 1.1 1.4 0.4 2.  1.6 2.3 0.4 0.2 2.3 1.3 0.4 2.1 1.5 1.5 0.2 1.2 1.5\n",
      " 0.4 0.2 1.2 1.5 1.7 0.3 1.8 1.3 0.2 0.3 1.2 1.9]\n",
      "Tableau de valeur predite: [0.20683081 0.6996762  1.35097952 0.2356482  2.42192935 1.70839101\n",
      " 1.73669782 0.35375997 0.25743163 2.09010081 1.4030584  0.29773372\n",
      " 2.03648533 1.5131963  1.54506331 0.22919786 1.20851581 1.6791874\n",
      " 0.20681081 0.17449786 1.52956992 1.73458554 1.69771312 0.21692936\n",
      " 2.14825297 1.33034898 0.28465754 0.27636294 1.61434741 1.6238663 ]\n"
     ]
    }
   ],
   "source": [
    "model=sk.MLPRegressor(hidden_layer_sizes=(5,4,3),activation=\"logistic\",learning_rate=\"adaptive\",solver=\"lbfgs\",max_iter=10000)\n",
    "model.fit(train,classTrain)\n",
    "pred=model.predict(test)\n",
    "print(\"Tableau de valeur de test: {}\\nTableau de valeur predite: {}\".format(classTest,pred))"
   ]
  },
  {
   "cell_type": "code",
   "execution_count": 7,
   "metadata": {},
   "outputs": [
    {
     "name": "stdout",
     "output_type": "stream",
     "text": [
      "(3, 5)\n",
      "(5, 4)\n",
      "(4, 3)\n",
      "(3, 1)\n"
     ]
    }
   ],
   "source": [
    "coefs=model.coefs_\n",
    "for array in coefs:\n",
    "    print(array.shape)\n"
   ]
  },
  {
   "cell_type": "markdown",
   "metadata": {},
   "source": [
    "## La librairie `Keras`"
   ]
  },
  {
   "cell_type": "code",
   "execution_count": 8,
   "metadata": {},
   "outputs": [
    {
     "name": "stderr",
     "output_type": "stream",
     "text": [
      "2022-04-20 09:17:17.456414: W tensorflow/stream_executor/platform/default/dso_loader.cc:64] Could not load dynamic library 'libcudart.so.11.0'; dlerror: libcudart.so.11.0: cannot open shared object file: No such file or directory\n",
      "2022-04-20 09:17:17.456497: I tensorflow/stream_executor/cuda/cudart_stub.cc:29] Ignore above cudart dlerror if you do not have a GPU set up on your machine.\n"
     ]
    },
    {
     "name": "stdout",
     "output_type": "stream",
     "text": [
      "tensorflow\n"
     ]
    }
   ],
   "source": [
    "import keras\n",
    "\n",
    "print(keras.backend.backend())"
   ]
  },
  {
   "cell_type": "code",
   "execution_count": 9,
   "metadata": {},
   "outputs": [],
   "source": [
    "\n",
    "import numpy as np\n",
    "\n",
    "from sklearn import model_selection as ms,datasets\n",
    "from sklearn.preprocessing import LabelEncoder\n",
    "from sklearn.model_selection import train_test_split\n",
    "\n",
    "import pandas as pd\n",
    "\n",
    "data = datasets.load_iris()\n",
    "\n",
    "# print(data)\n",
    "X = data.data\n",
    "Y = data.target\n",
    "encoder = LabelEncoder()\n",
    "\n",
    "y1 = encoder.fit_transform(Y)\n",
    "\n",
    "# binarisation\n",
    "Y = pd.get_dummies(y1).values\n",
    "X_train, X_test, y_train, y_test = train_test_split(X, Y,\n",
    "                                                    test_size=0.2, random_state=0)\n"
   ]
  },
  {
   "cell_type": "code",
   "execution_count": 10,
   "metadata": {},
   "outputs": [
    {
     "name": "stderr",
     "output_type": "stream",
     "text": [
      "2022-04-20 09:17:24.574189: W tensorflow/stream_executor/platform/default/dso_loader.cc:64] Could not load dynamic library 'libcuda.so.1'; dlerror: libcuda.so.1: cannot open shared object file: No such file or directory\n",
      "2022-04-20 09:17:24.574463: W tensorflow/stream_executor/cuda/cuda_driver.cc:269] failed call to cuInit: UNKNOWN ERROR (303)\n",
      "2022-04-20 09:17:24.574522: I tensorflow/stream_executor/cuda/cuda_diagnostics.cc:156] kernel driver does not appear to be running on this host (mbe-HP-Laptop-15-bw0xx): /proc/driver/nvidia/version does not exist\n",
      "2022-04-20 09:17:24.575178: I tensorflow/core/platform/cpu_feature_guard.cc:151] This TensorFlow binary is optimized with oneAPI Deep Neural Network Library (oneDNN) to use the following CPU instructions in performance-critical operations:  AVX2 FMA\n",
      "To enable them in other operations, rebuild TensorFlow with the appropriate compiler flags.\n"
     ]
    }
   ],
   "source": [
    "from keras import Sequential\n",
    "from keras.layers import Dense \n",
    "model = Sequential([\n",
    "    Dense(10, activation='relu'),\n",
    "    Dense(3, activation='softmax')\n",
    "])"
   ]
  },
  {
   "cell_type": "code",
   "execution_count": 11,
   "metadata": {},
   "outputs": [
    {
     "name": "stdout",
     "output_type": "stream",
     "text": [
      "Epoch 1/2\n",
      "120/120 [==============================] - 2s 5ms/step - loss: 2.9632 - accuracy: 0.3583\n",
      "Epoch 2/2\n",
      "120/120 [==============================] - 1s 5ms/step - loss: 0.6887 - accuracy: 0.5000\n"
     ]
    },
    {
     "data": {
      "text/plain": [
       "<keras.callbacks.History at 0x7f042850eee0>"
      ]
     },
     "execution_count": 11,
     "metadata": {},
     "output_type": "execute_result"
    }
   ],
   "source": [
    "from keras.models import Sequential\n",
    "from keras.layers import Dense, Activation\n",
    "model = Sequential()\n",
    "model.add(Dense(2, input_dim=4, kernel_initializer='ones',\n",
    "          activation=Activation('relu')))\n",
    "model.add(Dense(3, kernel_initializer='ones',\n",
    "          activation=Activation('relu')))\n",
    "model.add(Activation('softmax'))\n",
    "\n",
    "model.compile(loss='binary_crossentropy',\n",
    "              optimizer='sgd',\n",
    "              metrics=['accuracy'])\n",
    "\n",
    "model.fit(X_train, y_train, batch_size=1, epochs=2)\n"
   ]
  }
 ],
 "metadata": {
  "interpreter": {
   "hash": "916dbcbb3f70747c44a77c7bcd40155683ae19c65e1c03b4aa3499c5328201f1"
  },
  "kernelspec": {
   "display_name": "Python 3.8.10 64-bit",
   "name": "python3"
  },
  "language_info": {
   "codemirror_mode": {
    "name": "ipython",
    "version": 3
   },
   "file_extension": ".py",
   "mimetype": "text/x-python",
   "name": "python",
   "nbconvert_exporter": "python",
   "pygments_lexer": "ipython3",
   "version": "3.8.10"
  },
  "orig_nbformat": 4
 },
 "nbformat": 4,
 "nbformat_minor": 2
}
