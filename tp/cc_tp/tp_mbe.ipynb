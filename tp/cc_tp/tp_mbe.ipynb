{
 "cells": [
  {
   "cell_type": "markdown",
   "metadata": {},
   "source": [
    "## Objectifs\n",
    "\n",
    "Notre objectif est celui de predire le status d'une appel en tenant compte des caracteristiques qui pour nous, nous ont semblé importants\n",
    "\n",
    "Nous pensons que les attributs importants qui nous permettrons d'atteindre l'objectif fixé sont les colonnes TEARDOWN, DURATION et PDD"
   ]
  },
  {
   "cell_type": "markdown",
   "metadata": {},
   "source": [
    "## chargement et visualisation de donnees "
   ]
  },
  {
   "cell_type": "code",
   "execution_count": 32,
   "metadata": {},
   "outputs": [
    {
     "data": {
      "text/html": [
       "<div>\n",
       "<style scoped>\n",
       "    .dataframe tbody tr th:only-of-type {\n",
       "        vertical-align: middle;\n",
       "    }\n",
       "\n",
       "    .dataframe tbody tr th {\n",
       "        vertical-align: top;\n",
       "    }\n",
       "\n",
       "    .dataframe thead th {\n",
       "        text-align: right;\n",
       "    }\n",
       "</style>\n",
       "<table border=\"1\" class=\"dataframe\">\n",
       "  <thead>\n",
       "    <tr style=\"text-align: right;\">\n",
       "      <th></th>\n",
       "      <th>TIMESTAMP</th>\n",
       "      <th>TO</th>\n",
       "      <th>FROM</th>\n",
       "      <th>DURATION</th>\n",
       "      <th>TEARDOWN</th>\n",
       "      <th>PDD</th>\n",
       "    </tr>\n",
       "  </thead>\n",
       "  <tbody>\n",
       "    <tr>\n",
       "      <th>0</th>\n",
       "      <td>2016-02-24 00:01:31</td>\n",
       "      <td>1.123770e+13</td>\n",
       "      <td>33681758465</td>\n",
       "      <td>0</td>\n",
       "      <td>403</td>\n",
       "      <td>0</td>\n",
       "    </tr>\n",
       "    <tr>\n",
       "      <th>1</th>\n",
       "      <td>2016-02-24 00:01:37</td>\n",
       "      <td>1.123770e+13</td>\n",
       "      <td>3022353644</td>\n",
       "      <td>0</td>\n",
       "      <td>403</td>\n",
       "      <td>0</td>\n",
       "    </tr>\n",
       "    <tr>\n",
       "      <th>2</th>\n",
       "      <td>2016-02-24 00:01:38</td>\n",
       "      <td>1.123766e+13</td>\n",
       "      <td>33681757625</td>\n",
       "      <td>0</td>\n",
       "      <td>403</td>\n",
       "      <td>0</td>\n",
       "    </tr>\n",
       "    <tr>\n",
       "      <th>3</th>\n",
       "      <td>2016-02-24 00:01:36</td>\n",
       "      <td>1.123770e+13</td>\n",
       "      <td>32465977443</td>\n",
       "      <td>0</td>\n",
       "      <td>503</td>\n",
       "      <td>2000</td>\n",
       "    </tr>\n",
       "    <tr>\n",
       "      <th>4</th>\n",
       "      <td>2016-02-24 00:01:39</td>\n",
       "      <td>1.123770e+13</td>\n",
       "      <td>32465977443</td>\n",
       "      <td>0</td>\n",
       "      <td>503</td>\n",
       "      <td>1000</td>\n",
       "    </tr>\n",
       "    <tr>\n",
       "      <th>...</th>\n",
       "      <td>...</td>\n",
       "      <td>...</td>\n",
       "      <td>...</td>\n",
       "      <td>...</td>\n",
       "      <td>...</td>\n",
       "      <td>...</td>\n",
       "    </tr>\n",
       "    <tr>\n",
       "      <th>27951</th>\n",
       "      <td>2016-02-24 23:59:29</td>\n",
       "      <td>1.123799e+12</td>\n",
       "      <td>34649419583</td>\n",
       "      <td>0</td>\n",
       "      <td>503</td>\n",
       "      <td>5000</td>\n",
       "    </tr>\n",
       "    <tr>\n",
       "      <th>27952</th>\n",
       "      <td>2016-02-24 23:59:46</td>\n",
       "      <td>1.123766e+13</td>\n",
       "      <td>33681546494</td>\n",
       "      <td>0</td>\n",
       "      <td>403</td>\n",
       "      <td>0</td>\n",
       "    </tr>\n",
       "    <tr>\n",
       "      <th>27953</th>\n",
       "      <td>2016-02-24 23:59:57</td>\n",
       "      <td>1.123766e+13</td>\n",
       "      <td>33681543744</td>\n",
       "      <td>0</td>\n",
       "      <td>403</td>\n",
       "      <td>0</td>\n",
       "    </tr>\n",
       "    <tr>\n",
       "      <th>27954</th>\n",
       "      <td>2016-02-25 00:00:00</td>\n",
       "      <td>1.123770e+13</td>\n",
       "      <td>33681758465</td>\n",
       "      <td>0</td>\n",
       "      <td>403</td>\n",
       "      <td>0</td>\n",
       "    </tr>\n",
       "    <tr>\n",
       "      <th>27955</th>\n",
       "      <td>2016-02-25 00:00:01</td>\n",
       "      <td>1.123766e+13</td>\n",
       "      <td>33681543744</td>\n",
       "      <td>0</td>\n",
       "      <td>403</td>\n",
       "      <td>0</td>\n",
       "    </tr>\n",
       "  </tbody>\n",
       "</table>\n",
       "<p>27956 rows × 6 columns</p>\n",
       "</div>"
      ],
      "text/plain": [
       "                TIMESTAMP            TO         FROM  DURATION  TEARDOWN   PDD\n",
       "0     2016-02-24 00:01:31  1.123770e+13  33681758465         0       403     0\n",
       "1     2016-02-24 00:01:37  1.123770e+13   3022353644         0       403     0\n",
       "2     2016-02-24 00:01:38  1.123766e+13  33681757625         0       403     0\n",
       "3     2016-02-24 00:01:36  1.123770e+13  32465977443         0       503  2000\n",
       "4     2016-02-24 00:01:39  1.123770e+13  32465977443         0       503  1000\n",
       "...                   ...           ...          ...       ...       ...   ...\n",
       "27951 2016-02-24 23:59:29  1.123799e+12  34649419583         0       503  5000\n",
       "27952 2016-02-24 23:59:46  1.123766e+13  33681546494         0       403     0\n",
       "27953 2016-02-24 23:59:57  1.123766e+13  33681543744         0       403     0\n",
       "27954 2016-02-25 00:00:00  1.123770e+13  33681758465         0       403     0\n",
       "27955 2016-02-25 00:00:01  1.123766e+13  33681543744         0       403     0\n",
       "\n",
       "[27956 rows x 6 columns]"
      ]
     },
     "execution_count": 32,
     "metadata": {},
     "output_type": "execute_result"
    }
   ],
   "source": [
    "import pandas as pd \n",
    "\n",
    "data = pd.read_excel('CDR_For_Analysis.xlsx')\n",
    "data"
   ]
  },
  {
   "cell_type": "code",
   "execution_count": 33,
   "metadata": {},
   "outputs": [
    {
     "data": {
      "text/plain": [
       "(27956, 6)"
      ]
     },
     "execution_count": 33,
     "metadata": {},
     "output_type": "execute_result"
    }
   ],
   "source": [
    "data.shape"
   ]
  },
  {
   "cell_type": "code",
   "execution_count": 34,
   "metadata": {},
   "outputs": [
    {
     "data": {
      "text/html": [
       "<div>\n",
       "<style scoped>\n",
       "    .dataframe tbody tr th:only-of-type {\n",
       "        vertical-align: middle;\n",
       "    }\n",
       "\n",
       "    .dataframe tbody tr th {\n",
       "        vertical-align: top;\n",
       "    }\n",
       "\n",
       "    .dataframe thead th {\n",
       "        text-align: right;\n",
       "    }\n",
       "</style>\n",
       "<table border=\"1\" class=\"dataframe\">\n",
       "  <thead>\n",
       "    <tr style=\"text-align: right;\">\n",
       "      <th></th>\n",
       "      <th>TO</th>\n",
       "      <th>DURATION</th>\n",
       "      <th>TEARDOWN</th>\n",
       "      <th>PDD</th>\n",
       "    </tr>\n",
       "  </thead>\n",
       "  <tbody>\n",
       "    <tr>\n",
       "      <th>count</th>\n",
       "      <td>2.795600e+04</td>\n",
       "      <td>27956.000000</td>\n",
       "      <td>27956.000000</td>\n",
       "      <td>27956.000000</td>\n",
       "    </tr>\n",
       "    <tr>\n",
       "      <th>mean</th>\n",
       "      <td>2.054619e+17</td>\n",
       "      <td>11.304121</td>\n",
       "      <td>452.548254</td>\n",
       "      <td>1605.588460</td>\n",
       "    </tr>\n",
       "    <tr>\n",
       "      <th>std</th>\n",
       "      <td>1.502933e+19</td>\n",
       "      <td>76.353575</td>\n",
       "      <td>117.583734</td>\n",
       "      <td>1509.159994</td>\n",
       "    </tr>\n",
       "    <tr>\n",
       "      <th>min</th>\n",
       "      <td>1.123769e+06</td>\n",
       "      <td>0.000000</td>\n",
       "      <td>0.000000</td>\n",
       "      <td>0.000000</td>\n",
       "    </tr>\n",
       "    <tr>\n",
       "      <th>25%</th>\n",
       "      <td>1.123766e+13</td>\n",
       "      <td>0.000000</td>\n",
       "      <td>403.000000</td>\n",
       "      <td>1000.000000</td>\n",
       "    </tr>\n",
       "    <tr>\n",
       "      <th>50%</th>\n",
       "      <td>1.123770e+13</td>\n",
       "      <td>0.000000</td>\n",
       "      <td>503.000000</td>\n",
       "      <td>1000.000000</td>\n",
       "    </tr>\n",
       "    <tr>\n",
       "      <th>75%</th>\n",
       "      <td>1.123770e+13</td>\n",
       "      <td>0.000000</td>\n",
       "      <td>503.000000</td>\n",
       "      <td>2000.000000</td>\n",
       "    </tr>\n",
       "    <tr>\n",
       "      <th>max</th>\n",
       "      <td>1.123770e+21</td>\n",
       "      <td>2001.000000</td>\n",
       "      <td>503.000000</td>\n",
       "      <td>26000.000000</td>\n",
       "    </tr>\n",
       "  </tbody>\n",
       "</table>\n",
       "</div>"
      ],
      "text/plain": [
       "                 TO      DURATION      TEARDOWN           PDD\n",
       "count  2.795600e+04  27956.000000  27956.000000  27956.000000\n",
       "mean   2.054619e+17     11.304121    452.548254   1605.588460\n",
       "std    1.502933e+19     76.353575    117.583734   1509.159994\n",
       "min    1.123769e+06      0.000000      0.000000      0.000000\n",
       "25%    1.123766e+13      0.000000    403.000000   1000.000000\n",
       "50%    1.123770e+13      0.000000    503.000000   1000.000000\n",
       "75%    1.123770e+13      0.000000    503.000000   2000.000000\n",
       "max    1.123770e+21   2001.000000    503.000000  26000.000000"
      ]
     },
     "execution_count": 34,
     "metadata": {},
     "output_type": "execute_result"
    }
   ],
   "source": [
    "data.describe()"
   ]
  },
  {
   "cell_type": "markdown",
   "metadata": {},
   "source": [
    "- on verifie s'il ya des attributs parmis ceux importants avec des valeurs manquantes"
   ]
  },
  {
   "cell_type": "code",
   "execution_count": 35,
   "metadata": {},
   "outputs": [
    {
     "data": {
      "text/plain": [
       "array([  0, 403, 487, 488, 491, 503])"
      ]
     },
     "execution_count": 35,
     "metadata": {},
     "output_type": "execute_result"
    }
   ],
   "source": [
    "import numpy as np\n",
    "np.unique(data['TEARDOWN'])"
   ]
  },
  {
   "cell_type": "code",
   "execution_count": 36,
   "metadata": {},
   "outputs": [
    {
     "data": {
      "text/plain": [
       "Series([], Name: PDD, dtype: int64)"
      ]
     },
     "execution_count": 36,
     "metadata": {},
     "output_type": "execute_result"
    }
   ],
   "source": [
    "data['PDD'][data['PDD'].isna()]"
   ]
  },
  {
   "cell_type": "code",
   "execution_count": 37,
   "metadata": {},
   "outputs": [
    {
     "data": {
      "text/plain": [
       "array([    0,   813,   817, ..., 17000, 25000, 26000])"
      ]
     },
     "execution_count": 37,
     "metadata": {},
     "output_type": "execute_result"
    }
   ],
   "source": [
    "np.unique(data['PDD'])"
   ]
  },
  {
   "cell_type": "code",
   "execution_count": 38,
   "metadata": {},
   "outputs": [
    {
     "data": {
      "text/plain": [
       "Series([], Name: DURATION, dtype: int64)"
      ]
     },
     "execution_count": 38,
     "metadata": {},
     "output_type": "execute_result"
    }
   ],
   "source": [
    "data['DURATION'][data['DURATION'].isna()]"
   ]
  },
  {
   "cell_type": "code",
   "execution_count": 39,
   "metadata": {},
   "outputs": [
    {
     "data": {
      "text/plain": [
       "array([   0,    1,    2,    3,    4,    5,    6,    7,    8,    9,   10,\n",
       "         11,   12,   13,   14,   15,   16,   17,   18,   19,   20,   21,\n",
       "         22,   23,   24,   25,   26,   27,   28,   29,   30,   31,   32,\n",
       "         33,   34,   35,   36,   37,   38,   39,   40,   41,   42,   43,\n",
       "         44,   45,   46,   47,   48,   49,   50,   51,   52,   53,   54,\n",
       "         55,   56,   57,   58,   59,   60,   61,   62,   63,   64,   65,\n",
       "         66,   67,   68,   69,   70,   71,   72,   73,   74,   75,   76,\n",
       "         77,   78,   79,   80,   81,   82,   83,   84,   85,   86,   87,\n",
       "         88,   89,   90,   91,   92,   93,   94,   95,   96,   97,   98,\n",
       "         99,  100,  101,  102,  103,  104,  105,  106,  107,  108,  109,\n",
       "        110,  111,  112,  113,  114,  115,  116,  117,  118,  119,  120,\n",
       "        121,  122,  123,  124,  126,  127,  128,  129,  130,  131,  132,\n",
       "        133,  134,  135,  136,  137,  138,  139,  140,  141,  142,  143,\n",
       "        144,  145,  146,  147,  148,  149,  150,  151,  152,  153,  155,\n",
       "        156,  157,  158,  159,  160,  161,  162,  163,  164,  165,  166,\n",
       "        167,  168,  169,  170,  171,  172,  173,  174,  175,  176,  177,\n",
       "        178,  179,  180,  181,  182,  183,  184,  185,  186,  187,  188,\n",
       "        189,  190,  191,  194,  195,  196,  197,  198,  199,  200,  201,\n",
       "        202,  203,  204,  205,  207,  208,  209,  210,  211,  212,  213,\n",
       "        214,  215,  216,  217,  218,  219,  220,  221,  222,  223,  225,\n",
       "        226,  227,  228,  230,  231,  232,  233,  234,  236,  237,  238,\n",
       "        239,  241,  242,  244,  247,  248,  249,  250,  251,  252,  254,\n",
       "        256,  258,  259,  260,  261,  263,  264,  265,  266,  267,  268,\n",
       "        270,  271,  273,  274,  275,  276,  278,  280,  281,  282,  283,\n",
       "        284,  286,  287,  288,  289,  290,  292,  294,  295,  296,  297,\n",
       "        298,  299,  300,  301,  304,  305,  306,  307,  308,  311,  313,\n",
       "        315,  318,  321,  323,  325,  329,  330,  333,  334,  335,  337,\n",
       "        338,  339,  343,  344,  345,  346,  348,  350,  351,  354,  355,\n",
       "        356,  357,  359,  360,  362,  364,  366,  368,  370,  371,  372,\n",
       "        374,  376,  377,  379,  381,  382,  384,  387,  389,  391,  394,\n",
       "        395,  397,  398,  399,  400,  403,  404,  405,  406,  410,  414,\n",
       "        416,  417,  418,  419,  421,  422,  425,  428,  430,  434,  435,\n",
       "        440,  443,  444,  445,  446,  451,  453,  454,  455,  459,  461,\n",
       "        462,  463,  464,  465,  466,  467,  471,  472,  477,  480,  481,\n",
       "        485,  486,  487,  488,  489,  490,  492,  497,  501,  502,  503,\n",
       "        505,  507,  511,  512,  513,  514,  515,  520,  522,  524,  526,\n",
       "        532,  534,  535,  536,  541,  544,  545,  548,  550,  552,  556,\n",
       "        560,  561,  562,  563,  565,  569,  572,  573,  575,  578,  586,\n",
       "        589,  590,  592,  598,  600,  601,  606,  609,  610,  614,  615,\n",
       "        616,  625,  627,  632,  636,  640,  641,  648,  649,  650,  654,\n",
       "        655,  661,  664,  666,  668,  670,  671,  673,  674,  683,  686,\n",
       "        688,  689,  690,  699,  702,  704,  710,  711,  713,  715,  716,\n",
       "        732,  733,  739,  752,  760,  762,  764,  765,  769,  778,  780,\n",
       "        785,  789,  796,  798,  804,  805,  807,  808,  809,  811,  813,\n",
       "        821,  825,  843,  844,  888,  906,  912,  914,  919,  946,  947,\n",
       "        948,  952,  960,  970,  972,  975,  982, 1002, 1015, 1023, 1031,\n",
       "       1038, 1062, 1069, 1112, 1116, 1156, 1170, 1185, 1190, 1199, 1206,\n",
       "       1233, 1249, 1255, 1261, 1280, 1293, 1305, 1306, 1307, 1311, 1351,\n",
       "       1382, 1423, 1476, 1501, 1603, 1864, 2001])"
      ]
     },
     "execution_count": 39,
     "metadata": {},
     "output_type": "execute_result"
    }
   ],
   "source": [
    "np.unique(data['DURATION'])"
   ]
  },
  {
   "cell_type": "markdown",
   "metadata": {},
   "source": [
    "- on visualise les donnees( l'axe des x etant decrivant la duree de l'appel et l'axe des y decrivant le PDD)"
   ]
  },
  {
   "cell_type": "code",
   "execution_count": 40,
   "metadata": {},
   "outputs": [
    {
     "data": {
      "text/plain": [
       "<matplotlib.collections.PathCollection at 0x7fa01cd52df0>"
      ]
     },
     "execution_count": 40,
     "metadata": {},
     "output_type": "execute_result"
    },
    {
     "data": {
      "image/png": "[encoded data removed]",
      "text/plain": [
       "<Figure size 1080x1080 with 1 Axes>"
      ]
     },
     "metadata": {
      "needs_background": "light"
     },
     "output_type": "display_data"
    }
   ],
   "source": [
    "import matplotlib.pyplot as plt\n",
    "\n",
    "plt.figure(figsize=(15,15))\n",
    "plt.scatter(data['DURATION'],data['PDD'], c=data['TEARDOWN'])\n"
   ]
  },
  {
   "cell_type": "markdown",
   "metadata": {},
   "source": [
    "de ce graphe nous pouvons conclure que les donnees ne sont pas lineairement separable "
   ]
  },
  {
   "cell_type": "markdown",
   "metadata": {},
   "source": [
    "## pretraitement"
   ]
  },
  {
   "cell_type": "markdown",
   "metadata": {},
   "source": [
    "* on supprime les autres colonnes"
   ]
  },
  {
   "cell_type": "code",
   "execution_count": 41,
   "metadata": {},
   "outputs": [],
   "source": [
    "data = data[['DURATION', 'PDD', 'TEARDOWN']]"
   ]
  },
  {
   "cell_type": "markdown",
   "metadata": {},
   "source": [
    "- on normalise les donnees "
   ]
  },
  {
   "cell_type": "code",
   "execution_count": 42,
   "metadata": {},
   "outputs": [
    {
     "name": "stderr",
     "output_type": "stream",
     "text": [
      "/tmp/ipykernel_5653/3655175686.py:1: SettingWithCopyWarning: \n",
      "A value is trying to be set on a copy of a slice from a DataFrame.\n",
      "Try using .loc[row_indexer,col_indexer] = value instead\n",
      "\n",
      "See the caveats in the documentation: https://pandas.pydata.org/pandas-docs/stable/user_guide/indexing.html#returning-a-view-versus-a-copy\n",
      "  data['DURATION'] = (data['DURATION'] - data['DURATION'].mean())/data['DURATION'].std()\n"
     ]
    }
   ],
   "source": [
    "data['DURATION'] = (data['DURATION'] - data['DURATION'].mean())/data['DURATION'].std()"
   ]
  },
  {
   "cell_type": "code",
   "execution_count": 43,
   "metadata": {},
   "outputs": [
    {
     "name": "stderr",
     "output_type": "stream",
     "text": [
      "/tmp/ipykernel_5653/1105183098.py:1: SettingWithCopyWarning: \n",
      "A value is trying to be set on a copy of a slice from a DataFrame.\n",
      "Try using .loc[row_indexer,col_indexer] = value instead\n",
      "\n",
      "See the caveats in the documentation: https://pandas.pydata.org/pandas-docs/stable/user_guide/indexing.html#returning-a-view-versus-a-copy\n",
      "  data['PDD'] = (data['PDD'] - data['PDD'].mean())/data['PDD'].std()\n"
     ]
    }
   ],
   "source": [
    "data['PDD'] = (data['PDD'] - data['PDD'].mean())/data['PDD'].std()"
   ]
  },
  {
   "cell_type": "markdown",
   "metadata": {},
   "source": [
    "- on recupere les valeurs utiles"
   ]
  },
  {
   "cell_type": "code",
   "execution_count": 44,
   "metadata": {},
   "outputs": [],
   "source": [
    "from sklearn.model_selection import train_test_split \n",
    "\n",
    "data_used = data[['DURATION', 'PDD']].values\n",
    "labels_used = data['TEARDOWN'].values"
   ]
  },
  {
   "cell_type": "markdown",
   "metadata": {},
   "source": [
    "- on effectue la methode holdout"
   ]
  },
  {
   "cell_type": "code",
   "execution_count": 45,
   "metadata": {},
   "outputs": [],
   "source": [
    "# pour ne plus tenir compte de l'ordre d'enregistrement, on fait du melange grace a l'attribut shuffle nqui est mis a True par defaut\n",
    "X_train, X_test, y_train, y_test = train_test_split( data_used, labels_used, train_size=0.8, test_size=0.2)"
   ]
  },
  {
   "cell_type": "markdown",
   "metadata": {},
   "source": [
    "## entrainement "
   ]
  },
  {
   "cell_type": "markdown",
   "metadata": {},
   "source": [
    "vue que le nombre d'observations utilisables est de 27956, alors on ne pourrai utilisé les reseaux de neuronnes (car c'est encore beaucoup trop peu).\n",
    "\n",
    "Et donc les modeles qui se presnte face a nous sont :\n",
    "* le modele de Baiyes \n",
    "* le modele svm \n",
    "\n",
    "mais comme les caracteristiques ne sont pas forcement independantes alors le meilleure choix de modele a utulisé est un modele svm"
   ]
  },
  {
   "cell_type": "code",
   "execution_count": 46,
   "metadata": {},
   "outputs": [],
   "source": [
    "from libsvm.svmutil import svm_save_model, svm_load_model, svm_predict, svm_train"
   ]
  },
  {
   "cell_type": "markdown",
   "metadata": {},
   "source": [
    "Vue que nous voulons au mieux predire les status il est donc important pour nous de ne pas utilisé le modele svm a marge souple\n",
    "\n",
    "Et vue les donnees ne sont pas lineairement separable nous pouvons conclure que le modele adapté est le modele svm a fonction noyau\n",
    "\n",
    "Nous avons choisi noyau la plus communement utilisé ( d'apres quelques lectures sur le sujet ) qui est la fonction polynomiale de "
   ]
  },
  {
   "cell_type": "code",
   "execution_count": 47,
   "metadata": {},
   "outputs": [
    {
     "name": "stdout",
     "output_type": "stream",
     "text": [
      "...........\n",
      "WARNING: using -h 0 may be faster\n",
      "*\n",
      "optimization finished, #iter = 11151\n",
      "nu = 0.362252\n",
      "obj = -6041.955965, rho = -0.999931\n",
      "nSV = 6047, nBSV = 6033\n",
      "*\n",
      "optimization finished, #iter = 118\n",
      "nu = 0.009560\n",
      "obj = -168.743713, rho = -2.132974\n",
      "nSV = 175, nBSV = 172\n",
      "*\n",
      "optimization finished, #iter = 232\n",
      "nu = 0.018768\n",
      "obj = -211.760418, rho = 0.739216\n",
      "nSV = 297, nBSV = 271\n",
      "*\n",
      "optimization finished, #iter = 21\n",
      "nu = 0.001025\n",
      "obj = -11.907931, rho = -1.916838\n",
      "nSV = 15, nBSV = 13\n",
      "*\n",
      "optimization finished, #iter = 309\n",
      "nu = 0.042081\n",
      "obj = -307.689688, rho = -2.304553\n",
      "nSV = 313, nBSV = 310\n",
      "*\n",
      "optimization finished, #iter = 229\n",
      "nu = 0.065117\n",
      "obj = -211.760490, rho = 0.739151\n",
      "nSV = 319, nBSV = 273\n",
      "*\n",
      "optimization finished, #iter = 15\n",
      "nu = 0.004624\n",
      "obj = -14.000000, rho = -1.000000\n",
      "nSV = 14, nBSV = 14\n",
      "*\n",
      "optimization finished, #iter = 96\n",
      "nu = 0.027122\n",
      "obj = -139.386540, rho = 1.630929\n",
      "nSV = 156, nBSV = 153\n",
      "*\n",
      "optimization finished, #iter = 7\n",
      "nu = 0.003183\n",
      "obj = -14.000000, rho = -1.000000\n",
      "nSV = 14, nBSV = 14\n",
      "*\n",
      "optimization finished, #iter = 10\n",
      "nu = 0.005149\n",
      "obj = -3.376822, rho = -2.078691\n",
      "nSV = 9, nBSV = 6\n",
      "Total nSV = 6361\n"
     ]
    }
   ],
   "source": [
    "model_svm = svm_train(y_train, X_train, \"-s 0 -t 1 -d 2 -r 1\")\n",
    "svm_save_model(\"model_svm_a_fonction_noyau\", model_svm)"
   ]
  },
  {
   "cell_type": "markdown",
   "metadata": {},
   "source": [
    "## prediction et evaluation "
   ]
  },
  {
   "cell_type": "code",
   "execution_count": 48,
   "metadata": {},
   "outputs": [
    {
     "name": "stdout",
     "output_type": "stream",
     "text": [
      "Accuracy = 86.0694% (4813/5592) (classification)\n"
     ]
    }
   ],
   "source": [
    "model_svm = svm_load_model(\"model_svm_a_fonction_noyau\")\n",
    "ypred,_,_ = svm_predict(y_test, X_test, model_svm)"
   ]
  },
  {
   "cell_type": "code",
   "execution_count": 54,
   "metadata": {},
   "outputs": [],
   "source": [
    "def transform_dataframe(mat, etiquettes):\n",
    "    p = pd.DataFrame(mat , columns = etiquettes)\n",
    "    p.index = etiquettes\n",
    "    return p"
   ]
  },
  {
   "cell_type": "code",
   "execution_count": 62,
   "metadata": {},
   "outputs": [],
   "source": [
    "from sklearn.metrics import confusion_matrix, accuracy_score, precision_score, precision_recall_curve, recall_score\n",
    "\n",
    "etiquetes = np.unique(labels_used)\n",
    "gr = confusion_matrix(y_test, ypred, labels= etiquetes)"
   ]
  },
  {
   "cell_type": "code",
   "execution_count": 60,
   "metadata": {},
   "outputs": [
    {
     "data": {
      "text/html": [
       "<div>\n",
       "<style scoped>\n",
       "    .dataframe tbody tr th:only-of-type {\n",
       "        vertical-align: middle;\n",
       "    }\n",
       "\n",
       "    .dataframe tbody tr th {\n",
       "        vertical-align: top;\n",
       "    }\n",
       "\n",
       "    .dataframe thead th {\n",
       "        text-align: right;\n",
       "    }\n",
       "</style>\n",
       "<table border=\"1\" class=\"dataframe\">\n",
       "  <thead>\n",
       "    <tr style=\"text-align: right;\">\n",
       "      <th></th>\n",
       "      <th>0</th>\n",
       "      <th>403</th>\n",
       "      <th>487</th>\n",
       "      <th>488</th>\n",
       "      <th>491</th>\n",
       "      <th>503</th>\n",
       "    </tr>\n",
       "  </thead>\n",
       "  <tbody>\n",
       "    <tr>\n",
       "      <th>0</th>\n",
       "      <td>292</td>\n",
       "      <td>0</td>\n",
       "      <td>0</td>\n",
       "      <td>0</td>\n",
       "      <td>0</td>\n",
       "      <td>9</td>\n",
       "    </tr>\n",
       "    <tr>\n",
       "      <th>403</th>\n",
       "      <td>0</td>\n",
       "      <td>1108</td>\n",
       "      <td>0</td>\n",
       "      <td>0</td>\n",
       "      <td>0</td>\n",
       "      <td>17</td>\n",
       "    </tr>\n",
       "    <tr>\n",
       "      <th>487</th>\n",
       "      <td>0</td>\n",
       "      <td>17</td>\n",
       "      <td>0</td>\n",
       "      <td>0</td>\n",
       "      <td>0</td>\n",
       "      <td>733</td>\n",
       "    </tr>\n",
       "    <tr>\n",
       "      <th>488</th>\n",
       "      <td>0</td>\n",
       "      <td>1</td>\n",
       "      <td>0</td>\n",
       "      <td>0</td>\n",
       "      <td>0</td>\n",
       "      <td>0</td>\n",
       "    </tr>\n",
       "    <tr>\n",
       "      <th>491</th>\n",
       "      <td>1</td>\n",
       "      <td>0</td>\n",
       "      <td>0</td>\n",
       "      <td>0</td>\n",
       "      <td>0</td>\n",
       "      <td>0</td>\n",
       "    </tr>\n",
       "    <tr>\n",
       "      <th>503</th>\n",
       "      <td>0</td>\n",
       "      <td>1</td>\n",
       "      <td>0</td>\n",
       "      <td>0</td>\n",
       "      <td>0</td>\n",
       "      <td>3413</td>\n",
       "    </tr>\n",
       "  </tbody>\n",
       "</table>\n",
       "</div>"
      ],
      "text/plain": [
       "     0     403  487  488  491   503\n",
       "0    292     0    0    0    0     9\n",
       "403    0  1108    0    0    0    17\n",
       "487    0    17    0    0    0   733\n",
       "488    0     1    0    0    0     0\n",
       "491    1     0    0    0    0     0\n",
       "503    0     1    0    0    0  3413"
      ]
     },
     "execution_count": 60,
     "metadata": {},
     "output_type": "execute_result"
    }
   ],
   "source": [
    "transform_dataframe(gr, etiquetes)"
   ]
  },
  {
   "cell_type": "markdown",
   "metadata": {},
   "source": [
    "* tableau d'evaluation"
   ]
  },
  {
   "cell_type": "code",
   "execution_count": 77,
   "metadata": {},
   "outputs": [
    {
     "name": "stderr",
     "output_type": "stream",
     "text": [
      "/home/mbe/Bureau/DS/python/easylocalenv/lib/python3.8/site-packages/sklearn/metrics/_classification.py:1318: UndefinedMetricWarning: Precision is ill-defined and being set to 0.0 in labels with no predicted samples. Use `zero_division` parameter to control this behavior.\n",
      "  _warn_prf(average, modifier, msg_start, len(result))\n"
     ]
    }
   ],
   "source": [
    "def transform_matrice(V):\n",
    "    df = pd.DataFrame({'value': V},\n",
    "                      index = ['exactitude', 'precision', 'rappel' ])\n",
    "    return df\n",
    "q = transform_matrice([accuracy_score(y_test,ypred) , precision_score(y_test,ypred, average=\"macro\") , recall_score(y_test,ypred, average=\"macro\") ])"
   ]
  },
  {
   "cell_type": "code",
   "execution_count": 78,
   "metadata": {},
   "outputs": [
    {
     "data": {
      "text/html": [
       "<div>\n",
       "<style scoped>\n",
       "    .dataframe tbody tr th:only-of-type {\n",
       "        vertical-align: middle;\n",
       "    }\n",
       "\n",
       "    .dataframe tbody tr th {\n",
       "        vertical-align: top;\n",
       "    }\n",
       "\n",
       "    .dataframe thead th {\n",
       "        text-align: right;\n",
       "    }\n",
       "</style>\n",
       "<table border=\"1\" class=\"dataframe\">\n",
       "  <thead>\n",
       "    <tr style=\"text-align: right;\">\n",
       "      <th></th>\n",
       "      <th>value</th>\n",
       "    </tr>\n",
       "  </thead>\n",
       "  <tbody>\n",
       "    <tr>\n",
       "      <th>exactitude</th>\n",
       "      <td>0.860694</td>\n",
       "    </tr>\n",
       "    <tr>\n",
       "      <th>precision</th>\n",
       "      <td>0.466300</td>\n",
       "    </tr>\n",
       "    <tr>\n",
       "      <th>rappel</th>\n",
       "      <td>0.492449</td>\n",
       "    </tr>\n",
       "  </tbody>\n",
       "</table>\n",
       "</div>"
      ],
      "text/plain": [
       "               value\n",
       "exactitude  0.860694\n",
       "precision   0.466300\n",
       "rappel      0.492449"
      ]
     },
     "execution_count": 78,
     "metadata": {},
     "output_type": "execute_result"
    }
   ],
   "source": [
    "q"
   ]
  },
  {
   "cell_type": "markdown",
   "metadata": {},
   "source": [
    "## interpretation\n",
    "\n",
    "de part le tableau d'evaluation on peut donc se rentre compte que le modele n'est pas performant. la source peut venir du faite que les paramettres de la fonction noyau ne sont pas bien pris \n",
    "et qu'il faut augmenter le degre du polynome (et eventuellement la constance ) ce qui conduira a augmenter la dimention dans laquelle on separe les donnees lineairement separable"
   ]
  }
 ],
 "metadata": {
  "interpreter": {
   "hash": "916dbcbb3f70747c44a77c7bcd40155683ae19c65e1c03b4aa3499c5328201f1"
  },
  "kernelspec": {
   "display_name": "Python 3.8.10 64-bit",
   "language": "python",
   "name": "python3"
  },
  "language_info": {
   "codemirror_mode": {
    "name": "ipython",
    "version": 3
   },
   "file_extension": ".py",
   "mimetype": "text/x-python",
   "name": "python",
   "nbconvert_exporter": "python",
   "pygments_lexer": "ipython3",
   "version": "3.8.10"
  },
  "orig_nbformat": 4
 },
 "nbformat": 4,
 "nbformat_minor": 2
}
