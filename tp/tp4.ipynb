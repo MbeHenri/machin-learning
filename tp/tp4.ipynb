{
 "cells": [
  {
   "cell_type": "markdown",
   "metadata": {},
   "source": [
    "## `chargement de la dataset`\n",
    "\n",
    "les donnees sont issues d'une dataset de kaggle obtenu au lien suivant\n",
    "https://www.kaggle.com/datasets/ishantjuyal/emotions-in-text"
   ]
  },
  {
   "cell_type": "code",
   "execution_count": 2,
   "metadata": {},
   "outputs": [
    {
     "data": {
      "text/html": [
       "<div>\n",
       "<style scoped>\n",
       "    .dataframe tbody tr th:only-of-type {\n",
       "        vertical-align: middle;\n",
       "    }\n",
       "\n",
       "    .dataframe tbody tr th {\n",
       "        vertical-align: top;\n",
       "    }\n",
       "\n",
       "    .dataframe thead th {\n",
       "        text-align: right;\n",
       "    }\n",
       "</style>\n",
       "<table border=\"1\" class=\"dataframe\">\n",
       "  <thead>\n",
       "    <tr style=\"text-align: right;\">\n",
       "      <th></th>\n",
       "      <th>Text</th>\n",
       "      <th>Emotion</th>\n",
       "    </tr>\n",
       "  </thead>\n",
       "  <tbody>\n",
       "    <tr>\n",
       "      <th>0</th>\n",
       "      <td>i didnt feel humiliated</td>\n",
       "      <td>sadness</td>\n",
       "    </tr>\n",
       "    <tr>\n",
       "      <th>1</th>\n",
       "      <td>i can go from feeling so hopeless to so damned...</td>\n",
       "      <td>sadness</td>\n",
       "    </tr>\n",
       "    <tr>\n",
       "      <th>2</th>\n",
       "      <td>im grabbing a minute to post i feel greedy wrong</td>\n",
       "      <td>anger</td>\n",
       "    </tr>\n",
       "    <tr>\n",
       "      <th>3</th>\n",
       "      <td>i am ever feeling nostalgic about the fireplac...</td>\n",
       "      <td>love</td>\n",
       "    </tr>\n",
       "    <tr>\n",
       "      <th>4</th>\n",
       "      <td>i am feeling grouchy</td>\n",
       "      <td>anger</td>\n",
       "    </tr>\n",
       "    <tr>\n",
       "      <th>...</th>\n",
       "      <td>...</td>\n",
       "      <td>...</td>\n",
       "    </tr>\n",
       "    <tr>\n",
       "      <th>21454</th>\n",
       "      <td>Melissa stared at her friend in dism</td>\n",
       "      <td>fear</td>\n",
       "    </tr>\n",
       "    <tr>\n",
       "      <th>21455</th>\n",
       "      <td>Successive state elections have seen the gover...</td>\n",
       "      <td>fear</td>\n",
       "    </tr>\n",
       "    <tr>\n",
       "      <th>21456</th>\n",
       "      <td>Vincent was irritated but not dismay</td>\n",
       "      <td>fear</td>\n",
       "    </tr>\n",
       "    <tr>\n",
       "      <th>21457</th>\n",
       "      <td>Kendall-Hume turned back to face the dismayed ...</td>\n",
       "      <td>fear</td>\n",
       "    </tr>\n",
       "    <tr>\n",
       "      <th>21458</th>\n",
       "      <td>I am dismayed , but not surpris</td>\n",
       "      <td>fear</td>\n",
       "    </tr>\n",
       "  </tbody>\n",
       "</table>\n",
       "<p>21459 rows × 2 columns</p>\n",
       "</div>"
      ],
      "text/plain": [
       "                                                    Text  Emotion\n",
       "0                                i didnt feel humiliated  sadness\n",
       "1      i can go from feeling so hopeless to so damned...  sadness\n",
       "2       im grabbing a minute to post i feel greedy wrong    anger\n",
       "3      i am ever feeling nostalgic about the fireplac...     love\n",
       "4                                   i am feeling grouchy    anger\n",
       "...                                                  ...      ...\n",
       "21454               Melissa stared at her friend in dism     fear\n",
       "21455  Successive state elections have seen the gover...     fear\n",
       "21456               Vincent was irritated but not dismay     fear\n",
       "21457  Kendall-Hume turned back to face the dismayed ...     fear\n",
       "21458                    I am dismayed , but not surpris     fear\n",
       "\n",
       "[21459 rows x 2 columns]"
      ]
     },
     "execution_count": 2,
     "metadata": {},
     "output_type": "execute_result"
    }
   ],
   "source": [
    "import pandas as pd\n",
    "\n",
    "data = pd.read_csv(\"Emotion_final.csv\", sep = ',')\n",
    "data"
   ]
  },
  {
   "cell_type": "code",
   "execution_count": 2,
   "metadata": {},
   "outputs": [
    {
     "name": "stdout",
     "output_type": "stream",
     "text": [
      "['sadness' 'anger' 'love' 'surprise' 'fear' 'happy']\n"
     ]
    }
   ],
   "source": [
    "import numpy as np\n",
    "# Affichage des intentions \n",
    "print(data.Emotion.unique())"
   ]
  },
  {
   "cell_type": "markdown",
   "metadata": {},
   "source": [
    "## `pretraitement`"
   ]
  },
  {
   "cell_type": "markdown",
   "metadata": {},
   "source": [
    "- obtention des vecteurs de vocabulaires (codage one Hot)"
   ]
  },
  {
   "cell_type": "code",
   "execution_count": 3,
   "metadata": {},
   "outputs": [
    {
     "name": "stdout",
     "output_type": "stream",
     "text": [
      "0                                  i didnt feel humiliated\n",
      "1        i can go from feeling so hopeless to so damned...\n",
      "2         im grabbing a minute to post i feel greedy wrong\n",
      "3        i am ever feeling nostalgic about the fireplac...\n",
      "4                                     i am feeling grouchy\n",
      "                               ...                        \n",
      "21454                 Melissa stared at her friend in dism\n",
      "21455    Successive state elections have seen the gover...\n",
      "21456                 Vincent was irritated but not dismay\n",
      "21457    Kendall-Hume turned back to face the dismayed ...\n",
      "21458                      I am dismayed , but not surpris\n",
      "Name: Text, Length: 21459, dtype: object\n",
      "[[0. 0. 0. ... 0. 0. 0.]\n",
      " [0. 0. 0. ... 0. 0. 0.]\n",
      " [0. 0. 0. ... 0. 0. 0.]\n",
      " ...\n",
      " [0. 0. 0. ... 0. 0. 0.]\n",
      " [0. 0. 0. ... 0. 0. 0.]\n",
      " [0. 0. 0. ... 0. 0. 0.]]\n"
     ]
    },
    {
     "data": {
      "text/plain": [
       "1000"
      ]
     },
     "execution_count": 3,
     "metadata": {},
     "output_type": "execute_result"
    }
   ],
   "source": [
    "from sklearn.feature_extraction.text import  CountVectorizer\n",
    "\n",
    "X = data.Text\n",
    "print(X)\n",
    "\n",
    "converter = CountVectorizer(max_features=1000)\n",
    "\n",
    "# on realise la conversion\n",
    "text_one_hot = converter.fit_transform(X)\n",
    "X = text_one_hot.toarray()\n",
    "X = np.array(X, dtype='float32')\n",
    "print(X)\n",
    "\n",
    "len(converter.vocabulary_)"
   ]
  },
  {
   "cell_type": "markdown",
   "metadata": {},
   "source": [
    "- tranformation de la colonne d'intention pour l'apprentissage"
   ]
  },
  {
   "cell_type": "code",
   "execution_count": 4,
   "metadata": {},
   "outputs": [
    {
     "name": "stdout",
     "output_type": "stream",
     "text": [
      "0        sadness\n",
      "1        sadness\n",
      "2          anger\n",
      "3           love\n",
      "4          anger\n",
      "          ...   \n",
      "21454       fear\n",
      "21455       fear\n",
      "21456       fear\n",
      "21457       fear\n",
      "21458       fear\n",
      "Name: Emotion, Length: 21459, dtype: object\n",
      "[[0. 0. 0. 0. 1. 0.]\n",
      " [0. 0. 0. 0. 1. 0.]\n",
      " [1. 0. 0. 0. 0. 0.]\n",
      " ...\n",
      " [0. 1. 0. 0. 0. 0.]\n",
      " [0. 1. 0. 0. 0. 0.]\n",
      " [0. 1. 0. 0. 0. 0.]]\n"
     ]
    }
   ],
   "source": [
    "from sklearn.preprocessing import LabelEncoder\n",
    "\n",
    "Y = data.Emotion\n",
    "print(Y)\n",
    "encoder = LabelEncoder()\n",
    "y1 = encoder.fit_transform(Y)\n",
    "Y = pd.get_dummies(y1).values\n",
    "Y = np.array(Y, dtype='float32')\n",
    "print(Y)"
   ]
  },
  {
   "cell_type": "code",
   "execution_count": 5,
   "metadata": {},
   "outputs": [
    {
     "name": "stdout",
     "output_type": "stream",
     "text": [
      "(21459, 1000)\n",
      "(21459, 6)\n"
     ]
    }
   ],
   "source": [
    "print(X.shape)\n",
    "print(Y.shape)"
   ]
  },
  {
   "cell_type": "markdown",
   "metadata": {},
   "source": [
    "- decoupage pour l'entrainement et pour le test"
   ]
  },
  {
   "cell_type": "code",
   "execution_count": 6,
   "metadata": {},
   "outputs": [],
   "source": [
    "from sklearn.model_selection import train_test_split\n",
    "\n",
    "X_train, X_test, y_train, y_test = train_test_split(X, Y,\n",
    "                                                    test_size=0.4, random_state=0, stratify=Y)"
   ]
  },
  {
   "cell_type": "markdown",
   "metadata": {},
   "source": [
    "## `keras` (reseau de neuronnes) "
   ]
  },
  {
   "cell_type": "markdown",
   "metadata": {},
   "source": [
    "il faut noter que tous les poids des modeles sont initialisés à '1' quelques soit la fonction d'optimisation a utilisé dans le but d'avoir un meme point de depart\n",
    "\n",
    "- la taille des batchs a ete pris a '1' pour rester dans le contexte d'apprentissage stockastique (et non minibatch) \n",
    "- le nombre d' epoque a ete pris à '2' "
   ]
  },
  {
   "cell_type": "markdown",
   "metadata": {},
   "source": [
    "- fonction de perte"
   ]
  },
  {
   "cell_type": "code",
   "execution_count": 7,
   "metadata": {},
   "outputs": [
    {
     "name": "stderr",
     "output_type": "stream",
     "text": [
      "2022-04-20 16:42:36.018877: W tensorflow/stream_executor/platform/default/dso_loader.cc:64] Could not load dynamic library 'libcudart.so.11.0'; dlerror: libcudart.so.11.0: cannot open shared object file: No such file or directory\n",
      "2022-04-20 16:42:36.018944: I tensorflow/stream_executor/cuda/cudart_stub.cc:29] Ignore above cudart dlerror if you do not have a GPU set up on your machine.\n"
     ]
    }
   ],
   "source": [
    "import keras.backend as k\n",
    "\n",
    "def rss(y_true, y_pred):\n",
    "    return k.sum(k.square( y_true - y_pred ))/2"
   ]
  },
  {
   "cell_type": "markdown",
   "metadata": {},
   "source": [
    "### pour sgd\n",
    "\n",
    "l' optimiseur pour sgd est:\n",
    "\n",
    "tf.keras.optimizers.SGD\n",
    "    (learning_rate=0.01, momentum=0.0, nesterov=False)"
   ]
  },
  {
   "cell_type": "code",
   "execution_count": 8,
   "metadata": {},
   "outputs": [
    {
     "name": "stderr",
     "output_type": "stream",
     "text": [
      "2022-04-20 16:42:40.583047: W tensorflow/stream_executor/platform/default/dso_loader.cc:64] Could not load dynamic library 'libcuda.so.1'; dlerror: libcuda.so.1: cannot open shared object file: No such file or directory\n",
      "2022-04-20 16:42:40.583157: W tensorflow/stream_executor/cuda/cuda_driver.cc:269] failed call to cuInit: UNKNOWN ERROR (303)\n",
      "2022-04-20 16:42:40.583212: I tensorflow/stream_executor/cuda/cuda_diagnostics.cc:156] kernel driver does not appear to be running on this host (mbe-HP-Laptop-15-bw0xx): /proc/driver/nvidia/version does not exist\n",
      "2022-04-20 16:42:40.584629: I tensorflow/core/platform/cpu_feature_guard.cc:151] This TensorFlow binary is optimized with oneAPI Deep Neural Network Library (oneDNN) to use the following CPU instructions in performance-critical operations:  AVX2 FMA\n",
      "To enable them in other operations, rebuild TensorFlow with the appropriate compiler flags.\n"
     ]
    },
    {
     "name": "stdout",
     "output_type": "stream",
     "text": [
      "Epoch 1/30\n",
      "12875/12875 [==============================] - 39s 3ms/step - loss: 0.4934\n",
      "Epoch 2/30\n",
      "12875/12875 [==============================] - 37s 3ms/step - loss: 0.4788\n",
      "Epoch 3/30\n",
      "12875/12875 [==============================] - 37s 3ms/step - loss: 0.4645\n",
      "Epoch 4/30\n",
      "12875/12875 [==============================] - 37s 3ms/step - loss: 0.4560\n",
      "Epoch 5/30\n",
      "12875/12875 [==============================] - 38s 3ms/step - loss: 0.4438\n",
      "Epoch 6/30\n",
      "12875/12875 [==============================] - 37s 3ms/step - loss: 0.4355\n",
      "Epoch 7/30\n",
      "12875/12875 [==============================] - 37s 3ms/step - loss: 0.4292\n",
      "Epoch 8/30\n",
      "12875/12875 [==============================] - 37s 3ms/step - loss: 0.4237\n",
      "Epoch 9/30\n",
      "12875/12875 [==============================] - 33s 3ms/step - loss: 0.4174\n",
      "Epoch 10/30\n",
      "12875/12875 [==============================] - 32s 2ms/step - loss: 0.4134\n",
      "Epoch 11/30\n",
      "12875/12875 [==============================] - 32s 3ms/step - loss: 0.4095\n",
      "Epoch 12/30\n",
      "12875/12875 [==============================] - 32s 2ms/step - loss: 0.4066\n",
      "Epoch 13/30\n",
      "12875/12875 [==============================] - 32s 3ms/step - loss: 0.4043\n",
      "Epoch 14/30\n",
      "12875/12875 [==============================] - 32s 3ms/step - loss: 0.4025\n",
      "Epoch 15/30\n",
      "12875/12875 [==============================] - 32s 3ms/step - loss: 0.3986\n",
      "Epoch 16/30\n",
      "12875/12875 [==============================] - 33s 3ms/step - loss: 0.3986\n",
      "Epoch 17/30\n",
      "12875/12875 [==============================] - 32s 3ms/step - loss: 0.3962\n",
      "Epoch 18/30\n",
      "12875/12875 [==============================] - 32s 3ms/step - loss: 0.3947\n",
      "Epoch 19/30\n",
      "12875/12875 [==============================] - 32s 2ms/step - loss: 0.3936\n",
      "Epoch 20/30\n",
      "12875/12875 [==============================] - 32s 2ms/step - loss: 0.3930\n",
      "Epoch 21/30\n",
      "12875/12875 [==============================] - 32s 2ms/step - loss: 0.3920\n",
      "Epoch 22/30\n",
      "12875/12875 [==============================] - 32s 3ms/step - loss: 0.3915\n",
      "Epoch 23/30\n",
      "12875/12875 [==============================] - 32s 2ms/step - loss: 0.3904\n",
      "Epoch 24/30\n",
      "12875/12875 [==============================] - 32s 2ms/step - loss: 0.3895\n",
      "Epoch 25/30\n",
      "12875/12875 [==============================] - 32s 2ms/step - loss: 0.3890\n",
      "Epoch 26/30\n",
      "12875/12875 [==============================] - 32s 2ms/step - loss: 0.3885\n",
      "Epoch 27/30\n",
      "12875/12875 [==============================] - 32s 3ms/step - loss: 0.3880\n",
      "Epoch 28/30\n",
      "12875/12875 [==============================] - 33s 3ms/step - loss: 0.3876\n",
      "Epoch 29/30\n",
      "12875/12875 [==============================] - 33s 3ms/step - loss: 0.3876\n",
      "Epoch 30/30\n",
      "12875/12875 [==============================] - 32s 3ms/step - loss: 0.3871\n"
     ]
    }
   ],
   "source": [
    "import tensorflow as tf\n",
    "from keras.models import Sequential\n",
    "from keras.layers import Dense, Activation\n",
    "\n",
    "model_sgd = Sequential()\n",
    "\n",
    "model_sgd.add(Dense(4, input_dim=X.shape[1], kernel_initializer='ones',\n",
    "          activation=Activation('relu')))\n",
    "model_sgd.add(Dense(Y.shape[1], kernel_initializer='ones',\n",
    "          activation=Activation('relu')))\n",
    "model_sgd.add(Activation('softmax'))\n",
    "\n",
    "opt = tf.keras.optimizers.SGD()\n",
    "model_sgd.compile(loss=rss,\n",
    "              optimizer=opt)\n",
    "              \n",
    "start_prediction = model_sgd.predict(X_train)\n",
    "start_loss = rss(start_prediction[0], y_train[0])\n",
    "\n",
    "history = model_sgd.fit(X_train, y_train, batch_size=1, epochs=30)"
   ]
  },
  {
   "cell_type": "code",
   "execution_count": 9,
   "metadata": {},
   "outputs": [],
   "source": [
    "loss_values = history.history[\"loss\"]\n",
    "fichier = open(\"loss_sgd.txt\", \"w\")\n",
    "fichier.write(str(start_loss.numpy()))\n",
    "fichier.write(\"\\n\")\n",
    "for e in loss_values:\n",
    "    fichier.write(str(e))\n",
    "    fichier.write(\"\\n\")\n",
    "fichier.close()"
   ]
  },
  {
   "cell_type": "markdown",
   "metadata": {},
   "source": [
    "### pour momentum\n",
    "\n",
    "on utilise le meme optimiseur que pour la descente stockastique sgd mais en changeant les parametres par default\n",
    "\n",
    "dans notre cas (choix preferentiel) on choisira momentum=0.01"
   ]
  },
  {
   "cell_type": "code",
   "execution_count": 10,
   "metadata": {},
   "outputs": [
    {
     "name": "stdout",
     "output_type": "stream",
     "text": [
      "Epoch 1/30\n",
      "12875/12875 [==============================] - 34s 3ms/step - loss: 0.5026\n",
      "Epoch 2/30\n",
      "12875/12875 [==============================] - 33s 3ms/step - loss: 0.4794\n",
      "Epoch 3/30\n",
      "12875/12875 [==============================] - 33s 3ms/step - loss: 0.4690\n",
      "Epoch 4/30\n",
      "12875/12875 [==============================] - 33s 3ms/step - loss: 0.4522\n",
      "Epoch 5/30\n",
      "12875/12875 [==============================] - 33s 3ms/step - loss: 0.4446\n",
      "Epoch 6/30\n",
      "12875/12875 [==============================] - 33s 3ms/step - loss: 0.4346\n",
      "Epoch 7/30\n",
      "12875/12875 [==============================] - 33s 3ms/step - loss: 0.4300\n",
      "Epoch 8/30\n",
      "12875/12875 [==============================] - 33s 3ms/step - loss: 0.4223\n",
      "Epoch 9/30\n",
      "12875/12875 [==============================] - 33s 3ms/step - loss: 0.4186\n",
      "Epoch 10/30\n",
      "12875/12875 [==============================] - 33s 3ms/step - loss: 0.4131\n",
      "Epoch 11/30\n",
      "12875/12875 [==============================] - 33s 3ms/step - loss: 0.4092\n",
      "Epoch 12/30\n",
      "12875/12875 [==============================] - 33s 3ms/step - loss: 0.4057\n",
      "Epoch 13/30\n",
      "12875/12875 [==============================] - 33s 3ms/step - loss: 0.4036\n",
      "Epoch 14/30\n",
      "12875/12875 [==============================] - 33s 3ms/step - loss: 0.4019\n",
      "Epoch 15/30\n",
      "12875/12875 [==============================] - 33s 3ms/step - loss: 0.3991\n",
      "Epoch 16/30\n",
      "12875/12875 [==============================] - 33s 3ms/step - loss: 0.3977\n",
      "Epoch 17/30\n",
      "12875/12875 [==============================] - 33s 3ms/step - loss: 0.3963\n",
      "Epoch 18/30\n",
      "12875/12875 [==============================] - 33s 3ms/step - loss: 0.3944\n",
      "Epoch 19/30\n",
      "12875/12875 [==============================] - 33s 3ms/step - loss: 0.3934\n",
      "Epoch 20/30\n",
      "12875/12875 [==============================] - 33s 3ms/step - loss: 0.3922\n",
      "Epoch 21/30\n",
      "12875/12875 [==============================] - 33s 3ms/step - loss: 0.3911\n",
      "Epoch 22/30\n",
      "12875/12875 [==============================] - 33s 3ms/step - loss: 0.3905\n",
      "Epoch 23/30\n",
      "12875/12875 [==============================] - 33s 3ms/step - loss: 0.3896\n",
      "Epoch 24/30\n",
      "12875/12875 [==============================] - 33s 3ms/step - loss: 0.3894\n",
      "Epoch 25/30\n",
      "12875/12875 [==============================] - 33s 3ms/step - loss: 0.3888\n",
      "Epoch 26/30\n",
      "12875/12875 [==============================] - 33s 3ms/step - loss: 0.3886\n",
      "Epoch 27/30\n",
      "12875/12875 [==============================] - 33s 3ms/step - loss: 0.3882\n",
      "Epoch 28/30\n",
      "12875/12875 [==============================] - 33s 3ms/step - loss: 0.3881\n",
      "Epoch 29/30\n",
      "12875/12875 [==============================] - 33s 3ms/step - loss: 0.3876\n",
      "Epoch 30/30\n",
      "12875/12875 [==============================] - 33s 3ms/step - loss: 0.3874\n"
     ]
    }
   ],
   "source": [
    "model_momentum = Sequential()\n",
    "\n",
    "model_momentum.add(Dense(4, input_dim=X.shape[1], kernel_initializer='ones',\n",
    "          activation=Activation('relu')))\n",
    "model_momentum.add(Dense(Y.shape[1], kernel_initializer='ones',\n",
    "          activation=Activation('relu')))\n",
    "model_momentum.add(Activation('softmax'))\n",
    "\n",
    "opt = tf.keras.optimizers.SGD(momentum=0.01)\n",
    "model_momentum.compile(loss=rss,\n",
    "              optimizer=opt)\n",
    "              \n",
    "history =model_momentum.fit(X_train, y_train, batch_size=1, epochs=30)"
   ]
  },
  {
   "cell_type": "code",
   "execution_count": 11,
   "metadata": {},
   "outputs": [],
   "source": [
    "loss_values = history.history[\"loss\"]\n",
    "fichier = open(\"loss_mom.txt\", \"w\")\n",
    "fichier.write(str(start_loss.numpy()))\n",
    "fichier.write(\"\\n\")\n",
    "for e in loss_values:\n",
    "    fichier.write(str(e))\n",
    "    fichier.write(\"\\n\")\n",
    "fichier.close()"
   ]
  },
  {
   "cell_type": "markdown",
   "metadata": {},
   "source": [
    "### pour NAG\n",
    "\n",
    "on es dans le meme cas que pour momentum\n",
    "\n",
    "on prendra momentum=0.01, Nesterov = True"
   ]
  },
  {
   "cell_type": "code",
   "execution_count": 36,
   "metadata": {},
   "outputs": [
    {
     "name": "stdout",
     "output_type": "stream",
     "text": [
      "Epoch 1/30\n",
      "12875/12875 [==============================] - 52s 4ms/step - loss: 0.5003\n",
      "Epoch 2/30\n",
      "12875/12875 [==============================] - 52s 4ms/step - loss: 0.4793\n",
      "Epoch 3/30\n",
      "12875/12875 [==============================] - 53s 4ms/step - loss: 0.4683\n",
      "Epoch 4/30\n",
      "12875/12875 [==============================] - 54s 4ms/step - loss: 0.4576\n",
      "Epoch 5/30\n",
      "12875/12875 [==============================] - 56s 4ms/step - loss: 0.4438\n",
      "Epoch 6/30\n",
      "12875/12875 [==============================] - 52s 4ms/step - loss: 0.4354\n",
      "Epoch 7/30\n",
      "12875/12875 [==============================] - 36s 3ms/step - loss: 0.4290\n",
      "Epoch 8/30\n",
      "12875/12875 [==============================] - 36s 3ms/step - loss: 0.4225\n",
      "Epoch 9/30\n",
      "12875/12875 [==============================] - 36s 3ms/step - loss: 0.4182\n",
      "Epoch 10/30\n",
      "12875/12875 [==============================] - 36s 3ms/step - loss: 0.4134\n",
      "Epoch 11/30\n",
      "12875/12875 [==============================] - 36s 3ms/step - loss: 0.4100\n",
      "Epoch 12/30\n",
      "12875/12875 [==============================] - 37s 3ms/step - loss: 0.4054\n",
      "Epoch 13/30\n",
      "12875/12875 [==============================] - 37s 3ms/step - loss: 0.4039\n",
      "Epoch 14/30\n",
      "12875/12875 [==============================] - 37s 3ms/step - loss: 0.4012\n",
      "Epoch 15/30\n",
      "12875/12875 [==============================] - 39s 3ms/step - loss: 0.3985\n",
      "Epoch 16/30\n",
      "12875/12875 [==============================] - 39s 3ms/step - loss: 0.3973\n",
      "Epoch 17/30\n",
      "12875/12875 [==============================] - 40s 3ms/step - loss: 0.3957\n",
      "Epoch 18/30\n",
      "12875/12875 [==============================] - 40s 3ms/step - loss: 0.3951\n",
      "Epoch 19/30\n",
      "12875/12875 [==============================] - 40s 3ms/step - loss: 0.3938\n",
      "Epoch 20/30\n",
      "12875/12875 [==============================] - 39s 3ms/step - loss: 0.3930\n",
      "Epoch 21/30\n",
      "12875/12875 [==============================] - 39s 3ms/step - loss: 0.3916\n",
      "Epoch 22/30\n",
      "12875/12875 [==============================] - 40s 3ms/step - loss: 0.3910\n",
      "Epoch 23/30\n",
      "12875/12875 [==============================] - 39s 3ms/step - loss: 0.3901\n",
      "Epoch 24/30\n",
      "12875/12875 [==============================] - 39s 3ms/step - loss: 0.3894\n",
      "Epoch 25/30\n",
      "12875/12875 [==============================] - 39s 3ms/step - loss: 0.3890\n",
      "Epoch 26/30\n",
      "12875/12875 [==============================] - 39s 3ms/step - loss: 0.3887\n",
      "Epoch 27/30\n",
      "12875/12875 [==============================] - 40s 3ms/step - loss: 0.3884\n",
      "Epoch 28/30\n",
      "12875/12875 [==============================] - 39s 3ms/step - loss: 0.3875\n",
      "Epoch 29/30\n",
      "12875/12875 [==============================] - 39s 3ms/step - loss: 0.3876\n",
      "Epoch 30/30\n",
      "12875/12875 [==============================] - 39s 3ms/step - loss: 0.3873\n"
     ]
    }
   ],
   "source": [
    "model_nag = Sequential()\n",
    "\n",
    "model_nag.add(Dense(4, input_dim=X.shape[1], kernel_initializer='ones',\n",
    "          activation=Activation('relu')))\n",
    "model_nag.add(Dense(Y.shape[1], kernel_initializer='ones',\n",
    "          activation=Activation('relu')))\n",
    "model_nag.add(Activation('softmax'))\n",
    "\n",
    "opt = tf.keras.optimizers.SGD(momentum=0.01, nesterov=True )\n",
    "model_nag.compile(loss=rss,\n",
    "              optimizer=opt)\n",
    "              \n",
    "history =model_nag.fit(X_train, y_train, batch_size=1, epochs=30)"
   ]
  },
  {
   "cell_type": "code",
   "execution_count": 37,
   "metadata": {},
   "outputs": [],
   "source": [
    "loss_values = history.history[\"loss\"]\n",
    "fichier = open(\"loss_nag.txt\", \"w\")\n",
    "fichier.write(str(start_loss.numpy()))\n",
    "fichier.write(\"\\n\")\n",
    "for e in loss_values:\n",
    "    fichier.write(str(e))\n",
    "    fichier.write(\"\\n\")\n",
    "fichier.close()"
   ]
  },
  {
   "cell_type": "markdown",
   "metadata": {},
   "source": [
    "### pour adagrad\n",
    "\n",
    "l' optimiseur pour adagrad est :\n",
    "tf.keras.optimizers.Adagrad(learning_rate=0.001, initial_accumulator_value=0.1, epsilon=1e-07)"
   ]
  },
  {
   "cell_type": "code",
   "execution_count": 13,
   "metadata": {},
   "outputs": [
    {
     "name": "stdout",
     "output_type": "stream",
     "text": [
      "Epoch 1/30\n",
      "12875/12875 [==============================] - 33s 3ms/step - loss: 0.3894\n",
      "Epoch 2/30\n",
      "12875/12875 [==============================] - 34s 3ms/step - loss: 0.3883\n",
      "Epoch 3/30\n",
      "12875/12875 [==============================] - 33s 3ms/step - loss: 0.3881\n",
      "Epoch 4/30\n",
      "12875/12875 [==============================] - 33s 3ms/step - loss: 0.3879\n",
      "Epoch 5/30\n",
      "12875/12875 [==============================] - 33s 3ms/step - loss: 0.3879\n",
      "Epoch 6/30\n",
      "12875/12875 [==============================] - 33s 3ms/step - loss: 0.3878\n",
      "Epoch 7/30\n",
      "12875/12875 [==============================] - 33s 3ms/step - loss: 0.3877\n",
      "Epoch 8/30\n",
      "12875/12875 [==============================] - 33s 3ms/step - loss: 0.3877\n",
      "Epoch 9/30\n",
      "12875/12875 [==============================] - 34s 3ms/step - loss: 0.3876\n",
      "Epoch 10/30\n",
      "12875/12875 [==============================] - 33s 3ms/step - loss: 0.3876\n",
      "Epoch 11/30\n",
      "12875/12875 [==============================] - 33s 3ms/step - loss: 0.3875\n",
      "Epoch 12/30\n",
      "12875/12875 [==============================] - 33s 3ms/step - loss: 0.3875\n",
      "Epoch 13/30\n",
      "12875/12875 [==============================] - 34s 3ms/step - loss: 0.3875\n",
      "Epoch 14/30\n",
      "12875/12875 [==============================] - 34s 3ms/step - loss: 0.3874\n",
      "Epoch 15/30\n",
      "12875/12875 [==============================] - 33s 3ms/step - loss: 0.3874\n",
      "Epoch 16/30\n",
      "12875/12875 [==============================] - 33s 3ms/step - loss: 0.3873\n",
      "Epoch 17/30\n",
      "12875/12875 [==============================] - 33s 3ms/step - loss: 0.3873\n",
      "Epoch 18/30\n",
      "12875/12875 [==============================] - 33s 3ms/step - loss: 0.3873\n",
      "Epoch 19/30\n",
      "12875/12875 [==============================] - 33s 3ms/step - loss: 0.3872\n",
      "Epoch 20/30\n",
      "12875/12875 [==============================] - 34s 3ms/step - loss: 0.3872\n",
      "Epoch 21/30\n",
      "12875/12875 [==============================] - 34s 3ms/step - loss: 0.3872\n",
      "Epoch 22/30\n",
      "12875/12875 [==============================] - 33s 3ms/step - loss: 0.3872\n",
      "Epoch 23/30\n",
      "12875/12875 [==============================] - 33s 3ms/step - loss: 0.3871\n",
      "Epoch 24/30\n",
      "12875/12875 [==============================] - 33s 3ms/step - loss: 0.3871\n",
      "Epoch 25/30\n",
      "12875/12875 [==============================] - 33s 3ms/step - loss: 0.3871\n",
      "Epoch 26/30\n",
      "12875/12875 [==============================] - 33s 3ms/step - loss: 0.3871\n",
      "Epoch 27/30\n",
      "12875/12875 [==============================] - 33s 3ms/step - loss: 0.3870\n",
      "Epoch 28/30\n",
      "12875/12875 [==============================] - 34s 3ms/step - loss: 0.3870\n",
      "Epoch 29/30\n",
      "12875/12875 [==============================] - 34s 3ms/step - loss: 0.3870\n",
      "Epoch 30/30\n",
      "12875/12875 [==============================] - 33s 3ms/step - loss: 0.3870\n"
     ]
    }
   ],
   "source": [
    "model_Adagrad = Sequential()\n",
    "\n",
    "model_Adagrad.add(Dense(4, input_dim=X.shape[1], kernel_initializer='ones',\n",
    "          activation=Activation('relu')))\n",
    "model_Adagrad.add(Dense(Y.shape[1], kernel_initializer='ones',\n",
    "          activation=Activation('relu')))\n",
    "model_Adagrad.add(Activation('softmax'))\n",
    "\n",
    "opt = tf.keras.optimizers.Adagrad()\n",
    "model_Adagrad.compile(loss=rss,\n",
    "              optimizer=opt)\n",
    "history = model_Adagrad.fit(X_train, y_train, batch_size=1, epochs=30)"
   ]
  },
  {
   "cell_type": "code",
   "execution_count": 14,
   "metadata": {},
   "outputs": [],
   "source": [
    "loss_values = history.history[\"loss\"]\n",
    "fichier = open(\"loss_adagrad.txt\", \"w\")\n",
    "fichier.write(str(start_loss.numpy()))\n",
    "fichier.write(\"\\n\")\n",
    "for e in loss_values:\n",
    "    fichier.write(str(e))\n",
    "    fichier.write(\"\\n\")\n",
    "fichier.close()"
   ]
  },
  {
   "cell_type": "markdown",
   "metadata": {},
   "source": [
    "### pour rmsprop\n",
    "\n",
    "l' optimiseur pour rmsprop est : \n",
    "\n",
    "tf.keras.optimizers.RMSprop(learning_rate=0.001, rho=0.9,\n",
    "momentum=0.0, epsilon=1e-07, centered=False)"
   ]
  },
  {
   "cell_type": "code",
   "execution_count": 15,
   "metadata": {},
   "outputs": [
    {
     "name": "stdout",
     "output_type": "stream",
     "text": [
      "Epoch 1/30\n",
      "12875/12875 [==============================] - 35s 3ms/step - loss: 0.3909\n",
      "Epoch 2/30\n",
      "12875/12875 [==============================] - 34s 3ms/step - loss: 0.3869\n",
      "Epoch 3/30\n",
      "12875/12875 [==============================] - 35s 3ms/step - loss: 0.3906\n",
      "Epoch 4/30\n",
      "12875/12875 [==============================] - 35s 3ms/step - loss: 0.3864\n",
      "Epoch 5/30\n",
      "12875/12875 [==============================] - 35s 3ms/step - loss: 0.3810\n",
      "Epoch 6/30\n",
      "12875/12875 [==============================] - 34s 3ms/step - loss: 0.3750\n",
      "Epoch 7/30\n",
      "12875/12875 [==============================] - 35s 3ms/step - loss: 0.3696\n",
      "Epoch 8/30\n",
      "12875/12875 [==============================] - 34s 3ms/step - loss: 0.3649\n",
      "Epoch 9/30\n",
      "12875/12875 [==============================] - 34s 3ms/step - loss: 0.3612\n",
      "Epoch 10/30\n",
      "12875/12875 [==============================] - 35s 3ms/step - loss: 0.3572\n",
      "Epoch 11/30\n",
      "12875/12875 [==============================] - 35s 3ms/step - loss: 0.3535\n",
      "Epoch 12/30\n",
      "12875/12875 [==============================] - 35s 3ms/step - loss: 0.3496\n",
      "Epoch 13/30\n",
      "12875/12875 [==============================] - 42s 3ms/step - loss: 0.3460\n",
      "Epoch 14/30\n",
      "12875/12875 [==============================] - 51s 4ms/step - loss: 0.3424\n",
      "Epoch 15/30\n",
      "12875/12875 [==============================] - 51s 4ms/step - loss: 0.3391\n",
      "Epoch 16/30\n",
      "12875/12875 [==============================] - 55s 4ms/step - loss: 0.3361\n",
      "Epoch 17/30\n",
      "12875/12875 [==============================] - 55s 4ms/step - loss: 0.3329\n",
      "Epoch 18/30\n",
      "12875/12875 [==============================] - 55s 4ms/step - loss: 0.3298\n",
      "Epoch 19/30\n",
      "12875/12875 [==============================] - 56s 4ms/step - loss: 0.3271\n",
      "Epoch 20/30\n",
      "12875/12875 [==============================] - 55s 4ms/step - loss: 0.3242\n",
      "Epoch 21/30\n",
      "12875/12875 [==============================] - 55s 4ms/step - loss: 0.3217\n",
      "Epoch 22/30\n",
      "12875/12875 [==============================] - 55s 4ms/step - loss: 0.3192\n",
      "Epoch 23/30\n",
      "12875/12875 [==============================] - 55s 4ms/step - loss: 0.3169\n",
      "Epoch 24/30\n",
      "12875/12875 [==============================] - 55s 4ms/step - loss: 0.3144\n",
      "Epoch 25/30\n",
      "12875/12875 [==============================] - 54s 4ms/step - loss: 0.3124\n",
      "Epoch 26/30\n",
      "12875/12875 [==============================] - 55s 4ms/step - loss: 0.3099\n",
      "Epoch 27/30\n",
      "12875/12875 [==============================] - 54s 4ms/step - loss: 0.3077\n",
      "Epoch 28/30\n",
      "12875/12875 [==============================] - 54s 4ms/step - loss: 0.3061\n",
      "Epoch 29/30\n",
      "12875/12875 [==============================] - 55s 4ms/step - loss: 0.3040\n",
      "Epoch 30/30\n",
      "12875/12875 [==============================] - 55s 4ms/step - loss: 0.3022\n"
     ]
    }
   ],
   "source": [
    "model_rmsprop = Sequential()\n",
    "\n",
    "model_rmsprop.add(Dense(4, input_dim=X.shape[1], kernel_initializer='ones',\n",
    "          activation=Activation('relu')))\n",
    "model_rmsprop.add(Dense(Y.shape[1], kernel_initializer='ones',\n",
    "          activation=Activation('relu')))\n",
    "model_rmsprop.add(Activation('softmax'))\n",
    "\n",
    "opt = tf.keras.optimizers.RMSprop()\n",
    "model_rmsprop.compile(loss=rss,\n",
    "              optimizer=opt)\n",
    "history = model_rmsprop.fit(X_train, y_train, batch_size=1, epochs=30)\n"
   ]
  },
  {
   "cell_type": "code",
   "execution_count": 16,
   "metadata": {},
   "outputs": [],
   "source": [
    "loss_values = history.history[\"loss\"]\n",
    "fichier = open(\"loss_rmsprop.txt\", \"w\")\n",
    "fichier.write(str(start_loss.numpy()))\n",
    "fichier.write(\"\\n\")\n",
    "for e in loss_values:\n",
    "    fichier.write(str(e))\n",
    "    fichier.write(\"\\n\")\n",
    "fichier.close()"
   ]
  },
  {
   "cell_type": "markdown",
   "metadata": {},
   "source": [
    "### pour adadelta\n",
    "\n",
    "l'optimiseur pour adadelta\n",
    "\n",
    "tf.keras.optimizers.Adadelta(\n",
    "learning_rate=0.001, rho=0.95, epsilon=1e-07)"
   ]
  },
  {
   "cell_type": "code",
   "execution_count": 17,
   "metadata": {},
   "outputs": [
    {
     "name": "stdout",
     "output_type": "stream",
     "text": [
      "Epoch 1/30\n",
      "12875/12875 [==============================] - 55s 4ms/step - loss: 0.4098\n",
      "Epoch 2/30\n",
      "12875/12875 [==============================] - 49s 4ms/step - loss: 0.4006\n",
      "Epoch 3/30\n",
      "12875/12875 [==============================] - 50s 4ms/step - loss: 0.3956\n",
      "Epoch 4/30\n",
      "12875/12875 [==============================] - 51s 4ms/step - loss: 0.3929\n",
      "Epoch 5/30\n",
      "12875/12875 [==============================] - 44s 3ms/step - loss: 0.3913\n",
      "Epoch 6/30\n",
      "12875/12875 [==============================] - 46s 4ms/step - loss: 0.3904\n",
      "Epoch 7/30\n",
      "12875/12875 [==============================] - 56s 4ms/step - loss: 0.3898\n",
      "Epoch 8/30\n",
      "12875/12875 [==============================] - 56s 4ms/step - loss: 0.3894\n",
      "Epoch 9/30\n",
      "12875/12875 [==============================] - 58s 5ms/step - loss: 0.3891\n",
      "Epoch 10/30\n",
      "12875/12875 [==============================] - 61s 5ms/step - loss: 0.3889\n",
      "Epoch 11/30\n",
      "12875/12875 [==============================] - 61s 5ms/step - loss: 0.3888\n",
      "Epoch 12/30\n",
      "12875/12875 [==============================] - 62s 5ms/step - loss: 0.3887\n",
      "Epoch 13/30\n",
      "12875/12875 [==============================] - 63s 5ms/step - loss: 0.3886\n",
      "Epoch 14/30\n",
      "12875/12875 [==============================] - 62s 5ms/step - loss: 0.3885\n",
      "Epoch 15/30\n",
      "12875/12875 [==============================] - 58s 5ms/step - loss: 0.3885\n",
      "Epoch 16/30\n",
      "12875/12875 [==============================] - 57s 4ms/step - loss: 0.3884\n",
      "Epoch 17/30\n",
      "12875/12875 [==============================] - 57s 4ms/step - loss: 0.3884\n",
      "Epoch 18/30\n",
      "12875/12875 [==============================] - 57s 4ms/step - loss: 0.3883\n",
      "Epoch 19/30\n",
      "12875/12875 [==============================] - 57s 4ms/step - loss: 0.3883\n",
      "Epoch 20/30\n",
      "12875/12875 [==============================] - 57s 4ms/step - loss: 0.3882\n",
      "Epoch 21/30\n",
      "12875/12875 [==============================] - 57s 4ms/step - loss: 0.3882\n",
      "Epoch 22/30\n",
      "12875/12875 [==============================] - 57s 4ms/step - loss: 0.3882\n",
      "Epoch 23/30\n",
      "12875/12875 [==============================] - 58s 4ms/step - loss: 0.3882\n",
      "Epoch 24/30\n",
      "12875/12875 [==============================] - 57s 4ms/step - loss: 0.3882\n",
      "Epoch 25/30\n",
      "12875/12875 [==============================] - 58s 4ms/step - loss: 0.3881\n",
      "Epoch 26/30\n",
      "12875/12875 [==============================] - 58s 4ms/step - loss: 0.3881\n",
      "Epoch 27/30\n",
      "12875/12875 [==============================] - 57s 4ms/step - loss: 0.3881\n",
      "Epoch 28/30\n",
      "12875/12875 [==============================] - 57s 4ms/step - loss: 0.3881\n",
      "Epoch 29/30\n",
      "12875/12875 [==============================] - 57s 4ms/step - loss: 0.3880\n",
      "Epoch 30/30\n",
      "12875/12875 [==============================] - 57s 4ms/step - loss: 0.3880\n"
     ]
    }
   ],
   "source": [
    "model_Adadelta = Sequential()\n",
    "\n",
    "model_Adadelta.add(Dense(4, input_dim=X.shape[1], kernel_initializer='ones',\n",
    "          activation=Activation('relu')))\n",
    "model_Adadelta.add(Dense(Y.shape[1], kernel_initializer='ones',\n",
    "          activation=Activation('relu')))\n",
    "model_Adadelta.add(Activation('softmax'))\n",
    "\n",
    "opt = tf.keras.optimizers.Adadelta()\n",
    "model_Adadelta.compile(loss=rss,\n",
    "              optimizer=opt)\n",
    "history = model_Adadelta.fit(X_train, y_train, batch_size=1, epochs=30)"
   ]
  },
  {
   "cell_type": "code",
   "execution_count": 18,
   "metadata": {},
   "outputs": [],
   "source": [
    "loss_values = history.history[\"loss\"]\n",
    "fichier = open(\"loss_adadelta.txt\", \"w\")\n",
    "fichier.write(str(start_loss.numpy()))\n",
    "fichier.write(\"\\n\")\n",
    "for e in loss_values:\n",
    "    fichier.write(str(e))\n",
    "    fichier.write(\"\\n\")\n",
    "fichier.close()"
   ]
  },
  {
   "cell_type": "markdown",
   "metadata": {},
   "source": [
    "### pour adam\n",
    "\n",
    "l'optimiseur pour adam est :\n",
    "\n",
    "tf.keras.optimizers.Adam(learning_rate=0.001, beta_1=0.9 beta_2=0.999, epsilon=1e-07,amsgrad=False)"
   ]
  },
  {
   "cell_type": "code",
   "execution_count": 33,
   "metadata": {},
   "outputs": [
    {
     "name": "stdout",
     "output_type": "stream",
     "text": [
      "Epoch 1/30\n",
      "12875/12875 [==============================] - 62s 5ms/step - loss: 0.3887\n",
      "Epoch 2/30\n",
      "12875/12875 [==============================] - 62s 5ms/step - loss: 0.3732\n",
      "Epoch 3/30\n",
      "12875/12875 [==============================] - 63s 5ms/step - loss: 0.3405\n",
      "Epoch 4/30\n",
      "12875/12875 [==============================] - 64s 5ms/step - loss: 0.3148\n",
      "Epoch 5/30\n",
      "12875/12875 [==============================] - 66s 5ms/step - loss: 0.3000\n",
      "Epoch 6/30\n",
      "12875/12875 [==============================] - 54s 4ms/step - loss: 0.2916\n",
      "Epoch 7/30\n",
      "12875/12875 [==============================] - 38s 3ms/step - loss: 0.2855\n",
      "Epoch 8/30\n",
      "12875/12875 [==============================] - 39s 3ms/step - loss: 0.2806\n",
      "Epoch 9/30\n",
      "12875/12875 [==============================] - 38s 3ms/step - loss: 0.2761\n",
      "Epoch 10/30\n",
      "12875/12875 [==============================] - 39s 3ms/step - loss: 0.2719\n",
      "Epoch 11/30\n",
      "12875/12875 [==============================] - 40s 3ms/step - loss: 0.2678\n",
      "Epoch 12/30\n",
      "12875/12875 [==============================] - 40s 3ms/step - loss: 0.2649\n",
      "Epoch 13/30\n",
      "12875/12875 [==============================] - 40s 3ms/step - loss: 0.2621\n",
      "Epoch 14/30\n",
      "12875/12875 [==============================] - 40s 3ms/step - loss: 0.2597\n",
      "Epoch 15/30\n",
      "12875/12875 [==============================] - 41s 3ms/step - loss: 0.2576\n",
      "Epoch 16/30\n",
      "12875/12875 [==============================] - 52s 4ms/step - loss: 0.2555\n",
      "Epoch 17/30\n",
      "12875/12875 [==============================] - 41s 3ms/step - loss: 0.2536\n",
      "Epoch 18/30\n",
      "12875/12875 [==============================] - 41s 3ms/step - loss: 0.2526\n",
      "Epoch 19/30\n",
      "12875/12875 [==============================] - 41s 3ms/step - loss: 0.2511\n",
      "Epoch 20/30\n",
      "12875/12875 [==============================] - 42s 3ms/step - loss: 0.2499\n",
      "Epoch 21/30\n",
      "12875/12875 [==============================] - 41s 3ms/step - loss: 0.2493\n",
      "Epoch 22/30\n",
      "12875/12875 [==============================] - 42s 3ms/step - loss: 0.2480\n",
      "Epoch 23/30\n",
      "12875/12875 [==============================] - 42s 3ms/step - loss: 0.2479\n",
      "Epoch 24/30\n",
      "12875/12875 [==============================] - 41s 3ms/step - loss: 0.2470\n",
      "Epoch 25/30\n",
      "12875/12875 [==============================] - 41s 3ms/step - loss: 0.2467\n",
      "Epoch 26/30\n",
      "12875/12875 [==============================] - 41s 3ms/step - loss: 0.2459\n",
      "Epoch 27/30\n",
      "12875/12875 [==============================] - 42s 3ms/step - loss: 0.2455\n",
      "Epoch 28/30\n",
      "12875/12875 [==============================] - 52s 4ms/step - loss: 0.2452\n",
      "Epoch 29/30\n",
      "12875/12875 [==============================] - 42s 3ms/step - loss: 0.2448\n",
      "Epoch 30/30\n",
      "12875/12875 [==============================] - 42s 3ms/step - loss: 0.2444\n"
     ]
    }
   ],
   "source": [
    "model_Adam = Sequential()\n",
    "\n",
    "model_Adam.add(Dense(4, input_dim=X.shape[1], kernel_initializer='ones',\n",
    "          activation=Activation('relu')))\n",
    "model_Adam.add(Dense(Y.shape[1], kernel_initializer='ones',\n",
    "          activation=Activation('relu')))\n",
    "model_Adam.add(Activation('softmax'))\n",
    "\n",
    "opt = tf.keras.optimizers.Adam()\n",
    "model_Adam.compile(loss=rss,\n",
    "              optimizer=opt)\n",
    "history = model_Adam.fit(X_train, y_train, batch_size=1, epochs=30)"
   ]
  },
  {
   "cell_type": "code",
   "execution_count": 35,
   "metadata": {},
   "outputs": [],
   "source": [
    "loss_values = history.history[\"loss\"]\n",
    "fichier = open(\"loss_adam.txt\", \"w\")\n",
    "fichier.write(str(start_loss.numpy()))\n",
    "fichier.write(\"\\n\")\n",
    "for e in loss_values:\n",
    "    fichier.write(str(e))\n",
    "    fichier.write(\"\\n\")\n",
    "fichier.close()"
   ]
  },
  {
   "cell_type": "markdown",
   "metadata": {},
   "source": [
    "## Affichage des courbes issues de l'entrainement de ces reseaux"
   ]
  },
  {
   "cell_type": "code",
   "execution_count": 7,
   "metadata": {},
   "outputs": [
    {
     "data": {
      "image/png": "[encoded data removed]",
      "text/plain": [
       "<Figure size 720x720 with 1 Axes>"
      ]
     },
     "metadata": {
      "needs_background": "light"
     },
     "output_type": "display_data"
    }
   ],
   "source": [
    "import matplotlib.pyplot as plt\n",
    "\n",
    "plt.figure(1, figsize=(10,10))\n",
    "plt.xlabel('epoques')\n",
    "plt.ylabel('loss')\n",
    "\n",
    "#affichage des progressions\n",
    "\n",
    "data=pd.read_table(\"loss_sgd.txt\", header=None)\n",
    "y=data.values[:,0]\n",
    "x=range(len(y))\n",
    "plt.plot(x,y,label=\"sgd\")\n",
    "\n",
    "data=pd.read_table(\"loss_mom.txt\", header=None)\n",
    "y=data.values[:,0]\n",
    "x=range(len(y))\n",
    "plt.plot(x,y,label=\"momentum\")\n",
    "\n",
    "data=pd.read_table(\"loss_sgd.txt\", header=None)\n",
    "y=data.values[:,0]\n",
    "x=range(len(y))\n",
    "plt.plot(x,y,label=\"sgd\")\n",
    "\n",
    "data=pd.read_table(\"loss_nag.txt\", header=None)\n",
    "y=data.values[:,0]\n",
    "x=range(len(y))\n",
    "plt.plot(x,y,label=\"nag\")\n",
    "\n",
    "data=pd.read_table(\"loss_adagrad.txt\", header=None)\n",
    "y=data.values[:,0]\n",
    "x=range(len(y))\n",
    "plt.plot(x,y,label=\"adagrad\")\n",
    "\n",
    "data=pd.read_table(\"loss_adadelta.txt\", header=None)\n",
    "y=data.values[:,0]\n",
    "x=range(len(y))\n",
    "plt.plot(x,y,label=\"adadelta\")\n",
    "\n",
    "data=pd.read_table(\"loss_rmsprop.txt\", header=None)\n",
    "y=data.values[:,0]\n",
    "x=range(len(y))\n",
    "plt.plot(x,y,label=\"rmsprop\")\n",
    "\n",
    "data=pd.read_table(\"loss_adam.txt\", header=None)\n",
    "y=data.values[:,0]\n",
    "x=range(len(y))\n",
    "plt.plot(x,y,label=\"adam\")\n",
    "\n",
    "plt.legend()\n",
    "plt.show()"
   ]
  }
 ],
 "metadata": {
  "interpreter": {
   "hash": "6091eecd6e6182ac2f7218e1c8066cd4e6da883aaf59d396c96c7cfa42a20c86"
  },
  "kernelspec": {
   "display_name": "Python 3.8.10 ('easylocalenv')",
   "language": "python",
   "name": "python3"
  },
  "language_info": {
   "codemirror_mode": {
    "name": "ipython",
    "version": 3
   },
   "file_extension": ".py",
   "mimetype": "text/x-python",
   "name": "python",
   "nbconvert_exporter": "python",
   "pygments_lexer": "ipython3",
   "version": "3.8.10"
  },
  "orig_nbformat": 4
 },
 "nbformat": 4,
 "nbformat_minor": 2
}
