{
 "cells": [
  {
   "cell_type": "markdown",
   "metadata": {},
   "source": [
    "prise en main pour la fonction f(x,y)= x² + y²\n",
    "\n",
    "afin d'utiliser les fonctions deja ecrite il faudrait construire un ensemble de donnees inutiles vu qu'ils ne sont pas dependances \n",
    "\n",
    "en posant u = (x,y), f(u) = <u,u> et le grad f(u)= 2u"
   ]
  },
  {
   "cell_type": "code",
   "execution_count": 1,
   "metadata": {},
   "outputs": [],
   "source": [
    "import numpy as np\n",
    "from stokastic import adagrad, sgd\n",
    "\n",
    "def f(X,y, u):\n",
    "    return np.dot(u,u)\n",
    "\n",
    "def grad(X, y, u):\n",
    "    return 2*u\n",
    "X = np.random.randint(0,7,(10,2))\n",
    "y = np.random.randint(0,2,10)\n",
    "\n",
    "start = np.array([7,1.5])"
   ]
  },
  {
   "cell_type": "code",
   "execution_count": 2,
   "metadata": {},
   "outputs": [
    {
     "data": {
      "text/plain": [
       "49.23848654760007"
      ]
     },
     "execution_count": 2,
     "metadata": {},
     "output_type": "execute_result"
    }
   ],
   "source": [
    "result_sgd,dep_sgd = sgd(grad, X,y, start, learning_rate=1e-3)\n",
    "f(X,y,result_sgd)"
   ]
  },
  {
   "cell_type": "code",
   "execution_count": 3,
   "metadata": {},
   "outputs": [
    {
     "data": {
      "text/plain": [
       "51.24914643733981"
      ]
     },
     "execution_count": 3,
     "metadata": {},
     "output_type": "execute_result"
    }
   ],
   "source": [
    "result_adagrad,dep_adagrad = adagrad(grad, X,y, start, learning_rate=1e-5)\n",
    "f(X,y,result_adagrad)"
   ]
  },
  {
   "cell_type": "code",
   "execution_count": 14,
   "metadata": {},
   "outputs": [],
   "source": [
    "fichier = open(\"sgd_deplacement_f.txt\", \"w\")\n",
    "fichier.write(\"x;y\\n\")\n",
    "for e in dep_sgd:\n",
    "    fichier.write(str(e[0]))\n",
    "    fichier.write(\";\")\n",
    "    fichier.write(str(e[1]))\n",
    "    fichier.write(\"\\n\")\n",
    "fichier.close()\n",
    "\n",
    "fichier = open(\"adagrad_deplacement_f.txt\", \"w\")\n",
    "fichier.write(\"x;y\\n\")\n",
    "for e in dep_adagrad:\n",
    "    fichier.write(str(e[0]))\n",
    "    fichier.write(\";\")\n",
    "    fichier.write(str(e[1]))\n",
    "    fichier.write(\"\\n\")\n",
    "fichier.close()"
   ]
  },
  {
   "cell_type": "markdown",
   "metadata": {},
   "source": [
    "Prise en main pour la fonction d'evaluation rss de la regression logistique avec 2 caracteristiques, et 30 observations"
   ]
  },
  {
   "cell_type": "code",
   "execution_count": 15,
   "metadata": {},
   "outputs": [
    {
     "name": "stdout",
     "output_type": "stream",
     "text": [
      "[0.46910177 0.07957817]\n",
      "49.328467860440995\n"
     ]
    }
   ],
   "source": [
    "from wrt import grad_rss_, rss\n",
    "\n",
    "X = np.random.randint(0,20,(100,2))\n",
    "y = np.random.randint(0,2,100)\n",
    "\n",
    "start = np.random.rand(2)\n",
    "print(start)\n",
    "print(rss(X,y,start))\n"
   ]
  },
  {
   "cell_type": "code",
   "execution_count": 16,
   "metadata": {},
   "outputs": [],
   "source": [
    "fichier = open(\"data_synthetique_rss.txt\", \"w\")\n",
    "for i in range(X.shape[0]):\n",
    "    for j in range(X.shape[1]):\n",
    "        fichier.write(str(X[i][j])+\";\")\n",
    "    fichier.write(str(y[i])+\"\\n\")\n",
    "fichier.close()"
   ]
  },
  {
   "cell_type": "code",
   "execution_count": 17,
   "metadata": {},
   "outputs": [
    {
     "data": {
      "text/plain": [
       "43.763348405051175"
      ]
     },
     "execution_count": 17,
     "metadata": {},
     "output_type": "execute_result"
    }
   ],
   "source": [
    "dernier_sgd,dep_sgd = sgd(grad_rss_, X,y, start, n_epoch=300, learning_rate=1e-1)\n",
    "rss(X,y,dernier_sgd)"
   ]
  },
  {
   "cell_type": "code",
   "execution_count": 18,
   "metadata": {},
   "outputs": [
    {
     "data": {
      "text/plain": [
       "36.012298941497534"
      ]
     },
     "execution_count": 18,
     "metadata": {},
     "output_type": "execute_result"
    }
   ],
   "source": [
    "dernier_adagrad,dep_adagrad = adagrad(grad_rss_, X,y, start, n_epoch=20, learning_rate=1e-4)\n",
    "rss(X,y,dernier_adagrad)"
   ]
  },
  {
   "cell_type": "code",
   "execution_count": 19,
   "metadata": {},
   "outputs": [],
   "source": [
    "fichier = open(\"sgd_deplacement_rss.txt\", \"w\")\n",
    "fichier.write(\"b1;b2\\n\")\n",
    "for e in dep_sgd:\n",
    "    fichier.write(str(e[0]))\n",
    "    fichier.write(\";\")\n",
    "    fichier.write(str(e[1]))\n",
    "    fichier.write(\"\\n\")\n",
    "fichier.close()\n",
    "\n",
    "fichier = open(\"adagrad_deplacement_rss.txt\", \"w\")\n",
    "fichier.write(\"b1;b2\\n\")\n",
    "for e in dep_adagrad:\n",
    "    fichier.write(str(e[0]))\n",
    "    fichier.write(\";\")\n",
    "    fichier.write(str(e[1]))\n",
    "    fichier.write(\"\\n\")\n",
    "fichier.close()\n",
    "    "
   ]
  },
  {
   "cell_type": "code",
   "execution_count": 24,
   "metadata": {},
   "outputs": [
    {
     "data": {
      "text/plain": [
       "42.968715013799546"
      ]
     },
     "execution_count": 24,
     "metadata": {},
     "output_type": "execute_result"
    }
   ],
   "source": [
    "from batch import gradient_descent\n",
    "from wrt import grad_rss\n",
    "\n",
    "\n",
    "dernier_batch,dep_batch = gradient_descent(grad_rss, X,y, start, n_epoch=3000, learning_rate=1e-1)\n",
    "rss(X,y,dernier_batch)"
   ]
  }
 ],
 "metadata": {
  "interpreter": {
   "hash": "916dbcbb3f70747c44a77c7bcd40155683ae19c65e1c03b4aa3499c5328201f1"
  },
  "kernelspec": {
   "display_name": "Python 3.8.10 64-bit",
   "language": "python",
   "name": "python3"
  },
  "language_info": {
   "codemirror_mode": {
    "name": "ipython",
    "version": 3
   },
   "file_extension": ".py",
   "mimetype": "text/x-python",
   "name": "python",
   "nbconvert_exporter": "python",
   "pygments_lexer": "ipython3",
   "version": "3.8.10"
  },
  "orig_nbformat": 4
 },
 "nbformat": 4,
 "nbformat_minor": 2
}
