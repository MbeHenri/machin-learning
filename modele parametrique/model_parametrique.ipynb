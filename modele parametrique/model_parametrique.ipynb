{
 "cells": [
  {
   "cell_type": "markdown",
   "metadata": {},
   "source": [
    "### ` REGRESSION LOGISTIQUE `"
   ]
  },
  {
   "cell_type": "code",
   "execution_count": 1,
   "metadata": {},
   "outputs": [
    {
     "name": "stdout",
     "output_type": "stream",
     "text": [
      "[0 0 1 1 0 1 1 1 0 0 1 1 1 0 1 0 0 0 0 1 1 1 0 0 1 1 1 0 0 1]\n",
      "[0.56203259 0.56686995 0.72115136 0.52730084 0.41684201 0.6547653\n",
      " 0.56686995 0.6050107  0.56681814 0.64088779 0.3986241  0.69032991\n",
      " 0.67612493 0.54980241 0.76170858 0.43099152 0.61792983 0.53081433\n",
      " 0.35197877 0.71631548 0.58041589 0.67417003 0.34654191 0.51283921\n",
      " 0.82449909 0.74377929 0.40891546 0.4877478  0.38901987 0.52909983]\n"
     ]
    }
   ],
   "source": [
    "import numpy as np\n",
    "\n",
    "# fonction logistique\n",
    "def logistic(x):\n",
    "    return 1/(1+np.exp(-x))\n",
    "    \n",
    "# logarithme de la vraissemlance (fonction d'evaluation)\n",
    "def log_vraissemblance(X, y, b):\n",
    "    a = logistic(np.dot(X, b))\n",
    "    return np.dot(y, np.log(a)) + np.dot(1 - y, np.log(1 - a))\n",
    "    \n",
    "# gradient du logarithme de la vraissemblance \n",
    "def grad_log_vraissemblance(X, y, b):\n",
    "    a = logistic(np.dot(X, b))\n",
    "    return np.dot(X.T, y - a)\n",
    "\n",
    "# fonction d'evaluation du taux d'erreur avec la fonction logistique\n",
    "def rss(X, y, b):\n",
    "    a = y - logistic(np.dot(X, b))\n",
    "    return np.dot(a.T, a) / a.shape[0]\n",
    "    \n",
    "# gradient de rss\n",
    "def grad_rss(X, y, b):\n",
    "    a = logistic(np.dot(X, b))\n",
    "    return  2 * np.dot(X.T, (y - a)*(a - 1))\n",
    "\n",
    "#algorithme de descente pour les problemes de minimisation et maximisation\n",
    "def gradient_descent(gradient, X, y, start,learning_rate, n_iter, tolerance, minProblem = True):\n",
    "    vector = start\n",
    "    \n",
    "    # si c'est un probleme de maximisation on prend le gradient comme direction de\n",
    "    coef = 1\n",
    "    if minProblem :\n",
    "        coef = -1\n",
    "        \n",
    "    for _ in range(n_iter):\n",
    "        diff = coef*learning_rate*gradient(X,y,vector)\n",
    "        if np.all(np.abs(diff)<=tolerance):\n",
    "            break\n",
    "        vector += diff \n",
    "    return vector\n",
    "    \n",
    "\n",
    "# model de regression logistique avec descente de gradient\n",
    "class RegressionLogistique(object):\n",
    "    def __init__(self):\n",
    "        self.beta = []\n",
    "    \n",
    "    # algorithme de descente de gradient (entrainement)\n",
    "    def entrainement(self, X, y, learning_rate=1e-4,n_iter=50,tolerance=1e-6, evaluation = \"logistic\"):\n",
    "        start = np.random.random(X.shape[1])\n",
    "        \n",
    "        if evaluation == \"logistic\" :\n",
    "            self.beta = gradient_descent(\n",
    "                grad_log_vraissemblance, X, y, start, \n",
    "                learning_rate=learning_rate, \n",
    "                n_iter=n_iter, \n",
    "                tolerance=tolerance,\n",
    "                minProblem=False\n",
    "            )\n",
    "        elif evaluation == \"rss\" :\n",
    "            self.beta = gradient_descent(\n",
    "                grad_rss, X, y, start, \n",
    "                learning_rate=learning_rate, \n",
    "                n_iter=n_iter, \n",
    "                tolerance=tolerance\n",
    "            )\n",
    "        \n",
    "    # algorithme d'inference suivat la vraissemblance\n",
    "    def inference(self, X):\n",
    "        if self.beta.shape[0] != 0 :\n",
    "            return logistic(np.dot(X, self.beta))\n",
    "        return None\n",
    "    \n",
    "    \n",
    "\n",
    "X = np.random.randint(0,2,(30,10))\n",
    "y = np.random.randint(0,2,30)\n",
    "model = RegressionLogistique()\n",
    "\n",
    "model.entrainement(X, y, n_iter=6000)\n",
    "pred = model.inference(X)\n",
    "\n",
    "print(y)\n",
    "print(pred)"
   ]
  },
  {
   "cell_type": "code",
   "execution_count": 2,
   "metadata": {},
   "outputs": [
    {
     "name": "stdout",
     "output_type": "stream",
     "text": [
      "[0 0 1 1 0 1 1 1 0 0 1 1 1 0 1 0 0 0 0 1 1 1 0 0 1 1 1 0 0 1]\n",
      "[0.40160338 0.42375329 0.84612616 0.39341412 0.29357628 0.87023602\n",
      " 0.42375329 0.48175067 0.85679297 0.37615604 0.32807972 0.88077447\n",
      " 0.64998384 0.304859   0.7580709  0.14494334 0.77320572 0.46254288\n",
      " 0.12445287 0.9148808  0.62205478 0.75780857 0.21742834 0.61390663\n",
      " 0.97430524 0.94762562 0.32355633 0.72391088 0.10589033 0.66755299]\n"
     ]
    }
   ],
   "source": [
    "model.entrainement(X, y, n_iter=60000, evaluation=\"rss\")\n",
    "pred = model.inference(X)\n",
    "print(y)\n",
    "print(pred)"
   ]
  },
  {
   "cell_type": "markdown",
   "metadata": {},
   "source": [
    "### ` REGRESSION LINEAIRE `"
   ]
  },
  {
   "cell_type": "code",
   "execution_count": 3,
   "metadata": {},
   "outputs": [
    {
     "name": "stdout",
     "output_type": "stream",
     "text": [
      "[0 0 1 1 0 1 1 1 0 0 1 1 1 0 1 0 0 0 0 1 1 1 0 0 1 1 1 0 0 1]\n",
      "[0.21070543 0.47262346 0.83461845 0.34157956 0.37547042 0.79322414\n",
      " 0.47262346 0.50622784 0.24330761 0.51401777 0.35655976 1.14467433\n",
      " 0.64303    0.23187307 0.93701323 0.19102174 0.34570238 0.35422922\n",
      " 0.28679184 0.81301357 0.78734515 0.74324565 0.26518696 0.52602824\n",
      " 1.27026357 1.15324754 0.01020528 0.33350018 0.21147158 0.55145449]\n"
     ]
    }
   ],
   "source": [
    "import numpy as np\n",
    "\n",
    "# fonction de regression lineaire \n",
    "def f(X, b):\n",
    "    return np.dot(X, b)\n",
    "    \n",
    "# fonction d'evaluation du taux d'erreur avec la fonction logistique\n",
    "def rss(X, y, b):\n",
    "    a = y - f(X, b)\n",
    "    return np.dot(a.T, a)\n",
    "    \n",
    "# gradient de rss\n",
    "def grad_rss(X, y, b):\n",
    "    a = y - f(X, b)\n",
    "    return  - 2 * np.dot(X.T, a)\n",
    "\n",
    "# model de regression lineare avec descente de gradient\n",
    "class RegressionLineaire(object):\n",
    "    def __init__(self):\n",
    "        self.beta = []\n",
    "    \n",
    "    # algorithme de descente de gradient (entrainement)\n",
    "    def entrainement(self, X, y, learning_rate=1e-4,n_iter=50,tolerance=1e-6):\n",
    "        temp = np.ones(y.shape[0])\n",
    "        temp = temp.reshape((temp.shape[0], 1))\n",
    "        temp = np.concatenate((temp, X), axis=1)\n",
    "        \n",
    "        start = np.random.random(temp.shape[1])\n",
    "        self.beta = gradient_descent(\n",
    "                grad_rss, temp, y, start, \n",
    "                learning_rate=learning_rate, \n",
    "                n_iter=n_iter, \n",
    "                tolerance=tolerance\n",
    "            )\n",
    "        \n",
    "    # algorithme d'inference suivat la vraissemblance\n",
    "    def inference(self, X):\n",
    "        if self.beta.shape[0] != 0 :\n",
    "            temp = np.ones(y.shape[0])\n",
    "            temp = temp.reshape((temp.shape[0], 1))\n",
    "            temp = np.concatenate((temp, X), axis=1)\n",
    "            return f(temp, self.beta)\n",
    "        return None\n",
    "    \n",
    "    \n",
    "model = RegressionLineaire()\n",
    "model.entrainement(X, y, n_iter=6000)\n",
    "pred = model.inference(X)\n",
    "\n",
    "print(y)\n",
    "print(pred)"
   ]
  }
 ],
 "metadata": {
  "interpreter": {
   "hash": "916dbcbb3f70747c44a77c7bcd40155683ae19c65e1c03b4aa3499c5328201f1"
  },
  "kernelspec": {
   "display_name": "Python 3.8.10 64-bit",
   "language": "python",
   "name": "python3"
  },
  "language_info": {
   "codemirror_mode": {
    "name": "ipython",
    "version": 3
   },
   "file_extension": ".py",
   "mimetype": "text/x-python",
   "name": "python",
   "nbconvert_exporter": "python",
   "pygments_lexer": "ipython3",
   "version": "3.8.10"
  },
  "orig_nbformat": 4
 },
 "nbformat": 4,
 "nbformat_minor": 2
}
